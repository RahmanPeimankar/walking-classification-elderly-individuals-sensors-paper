{
 "cells": [
  {
   "cell_type": "code",
   "execution_count": 2,
   "metadata": {
    "scrolled": false
   },
   "outputs": [],
   "source": [
    "import pandas as pd\n",
    "import matplotlib.pyplot as plt\n",
    "plt.rcParams.update({'figure.max_open_warning': 0})\n",
    "import numpy as np\n",
    "import scipy as sp\n",
    "import os\n",
    "import random\n",
    "import matplotlib.gridspec as gridspec\n",
    "import matplotlib\n",
    "import matplotlib.pyplot as plt\n",
    "import matplotlib\n",
    "matplotlib.use( 'tkagg' )\n",
    "import matplotlib.gridspec as gridspec\n",
    "print(plt.style.available)\n",
    "plt.style.use('seaborn-paper')\n",
    "import warnings\n",
    "warnings.filterwarnings('ignore')\n",
    "import pickle\n",
    "import tsfel\n",
    "from scipy import stats\n",
    "import seaborn as sns\n",
    "from imblearn.over_sampling import ADASYN \n",
    "import pandas_profiling \n",
    "from FS.pso import jfs\n",
    "\n",
    "from sklearn.preprocessing import StandardScaler\n",
    "from sklearn.ensemble import RandomForestClassifier\n",
    "from sklearn.metrics import classification_report, accuracy_score\n",
    "from sklearn.metrics import confusion_matrix, plot_roc_curve\n",
    "from sklearn.model_selection import LeaveOneGroupOut\n",
    "from sklearn.feature_selection import SelectFromModel, RFE\n",
    "from sklearn.pipeline import Pipeline\n",
    "from sklearn.neighbors import KNeighborsClassifier\n",
    "from sklearn.ensemble import StackingClassifier\n",
    "from sklearn.svm import LinearSVC\n",
    "from sklearn.naive_bayes import GaussianNB\n",
    "from sklearn.ensemble import ExtraTreesClassifier\n",
    "from sklearn.linear_model import LogisticRegression\n",
    "from sklearn.neural_network import MLPClassifier\n",
    "from sklearn.model_selection import RandomizedSearchCV\n",
    "\n",
    "from xgboost import XGBClassifier\n",
    "\n",
    "from tensorflow.keras.utils import to_categorical\n",
    "from tensorflow.keras.models import Sequential\n",
    "from tensorflow.keras.layers import Dense\n",
    "from tensorflow.keras.layers import Flatten\n",
    "from tensorflow.keras.layers import Dropout\n",
    "from tensorflow.keras.layers import LSTM\n",
    "\n",
    "%matplotlib inline"
   ]
  },
  {
   "cell_type": "code",
   "execution_count": 3,
   "metadata": {},
   "outputs": [],
   "source": [
    "!pip install tsfel\n",
    "!pip install statsmodels --upgrade\n",
    "!pip install scipy"
   ]
  },
  {
   "cell_type": "markdown",
   "metadata": {},
   "source": [
    "## Reading the Dataset "
   ]
  },
  {
   "cell_type": "code",
   "execution_count": 28,
   "metadata": {},
   "outputs": [],
   "source": [
    "def df_import(ID, file_name, date_time_start, date_time_end):\n",
    "    path = '../data/' + ID + '/' + file_name\n",
    "    df = pd.read_csv(path, delimiter=None, header='infer')\n",
    "    df['local'] = pd.to_datetime(df['local'])\n",
    "    df_sub = df[(df['local'] > date_time_start) & (df['local'] < date_time_end)].reset_index(drop=True)\n",
    "    df['ID'] = ID\n",
    "    df_sub['ID'] = ID \n",
    "    return df_sub"
   ]
  },
  {
   "cell_type": "code",
   "execution_count": 37,
   "metadata": {},
   "outputs": [],
   "source": [
    "IDs = ['PID008', 'PID009', 'PID010','PID011','PID012','PID013', 'PID014',\n",
    "       'PID015','PID016','PID017','PID018','PID019', 'PID020', 'PID021', \n",
    "       'PID022', 'PID023', 'PID024', 'PID025', 'PID026', 'PID027', 'PID028']\n",
    "\n",
    "sensor_name = ['back.csv']\n",
    "\n",
    "date_time_start = '2021-09-03 09:00:00'\n",
    "date_time_end = '2021-09-08 15:00:00'\n",
    "\n",
    "df_back = []\n",
    "\n",
    "for patient in IDs:\n",
    "    df_sub_back = df_import(patient, sensor_name[0], date_time_start, date_time_end)\n",
    "    df_back.append(df_sub_back)\n",
    "    \n",
    "df_all_back = pd.concat(df_back)\n",
    "df_all_back.dropna(subset = ['label'], inplace=True)\n",
    "df_all_back = df_all_back.reset_index(drop=True)"
   ]
  },
  {
   "cell_type": "markdown",
   "metadata": {},
   "source": [
    "## Save and import the data from a CSV file"
   ]
  },
  {
   "cell_type": "code",
   "execution_count": 6,
   "metadata": {},
   "outputs": [],
   "source": [
    "df_all_back = pd.read_csv('../data/df_all_back.csv', delimiter=None, header='infer')"
   ]
  },
  {
   "cell_type": "code",
   "execution_count": 7,
   "metadata": {},
   "outputs": [
    {
     "data": {
      "text/html": [
       "<div>\n",
       "<style scoped>\n",
       "    .dataframe tbody tr th:only-of-type {\n",
       "        vertical-align: middle;\n",
       "    }\n",
       "\n",
       "    .dataframe tbody tr th {\n",
       "        vertical-align: top;\n",
       "    }\n",
       "\n",
       "    .dataframe thead th {\n",
       "        text-align: right;\n",
       "    }\n",
       "</style>\n",
       "<table border=\"1\" class=\"dataframe\">\n",
       "  <thead>\n",
       "    <tr style=\"text-align: right;\">\n",
       "      <th></th>\n",
       "      <th>utc</th>\n",
       "      <th>local</th>\n",
       "      <th>unixts</th>\n",
       "      <th>x</th>\n",
       "      <th>y</th>\n",
       "      <th>z</th>\n",
       "      <th>label</th>\n",
       "      <th>ID</th>\n",
       "    </tr>\n",
       "  </thead>\n",
       "  <tbody>\n",
       "    <tr>\n",
       "      <th>0</th>\n",
       "      <td>2021-09-03T07:36:38.794000Z</td>\n",
       "      <td>2021-09-03 09:36:38.794000+02:00</td>\n",
       "      <td>1.630000e+12</td>\n",
       "      <td>0.240</td>\n",
       "      <td>0.992</td>\n",
       "      <td>-0.080</td>\n",
       "      <td>1.0</td>\n",
       "      <td>PID008</td>\n",
       "    </tr>\n",
       "    <tr>\n",
       "      <th>1</th>\n",
       "      <td>2021-09-03T07:37:07.659000Z</td>\n",
       "      <td>2021-09-03 09:37:07.659000+02:00</td>\n",
       "      <td>1.630000e+12</td>\n",
       "      <td>0.152</td>\n",
       "      <td>1.008</td>\n",
       "      <td>-0.136</td>\n",
       "      <td>1.0</td>\n",
       "      <td>PID008</td>\n",
       "    </tr>\n",
       "    <tr>\n",
       "      <th>2</th>\n",
       "      <td>2021-09-03T07:37:07.564000Z</td>\n",
       "      <td>2021-09-03 09:37:07.564000+02:00</td>\n",
       "      <td>1.630000e+12</td>\n",
       "      <td>0.152</td>\n",
       "      <td>1.008</td>\n",
       "      <td>-0.136</td>\n",
       "      <td>1.0</td>\n",
       "      <td>PID008</td>\n",
       "    </tr>\n",
       "    <tr>\n",
       "      <th>3</th>\n",
       "      <td>2021-09-03T07:37:07.470000Z</td>\n",
       "      <td>2021-09-03 09:37:07.470000+02:00</td>\n",
       "      <td>1.630000e+12</td>\n",
       "      <td>0.152</td>\n",
       "      <td>1.008</td>\n",
       "      <td>-0.136</td>\n",
       "      <td>1.0</td>\n",
       "      <td>PID008</td>\n",
       "    </tr>\n",
       "    <tr>\n",
       "      <th>4</th>\n",
       "      <td>2021-09-03T07:37:07.376000Z</td>\n",
       "      <td>2021-09-03 09:37:07.376000+02:00</td>\n",
       "      <td>1.630000e+12</td>\n",
       "      <td>0.152</td>\n",
       "      <td>1.008</td>\n",
       "      <td>-0.136</td>\n",
       "      <td>1.0</td>\n",
       "      <td>PID008</td>\n",
       "    </tr>\n",
       "    <tr>\n",
       "      <th>...</th>\n",
       "      <td>...</td>\n",
       "      <td>...</td>\n",
       "      <td>...</td>\n",
       "      <td>...</td>\n",
       "      <td>...</td>\n",
       "      <td>...</td>\n",
       "      <td>...</td>\n",
       "      <td>...</td>\n",
       "    </tr>\n",
       "    <tr>\n",
       "      <th>96718</th>\n",
       "      <td>2021-09-08T11:31:18.707000Z</td>\n",
       "      <td>2021-09-08 13:31:18.707000+02:00</td>\n",
       "      <td>1.631100e+12</td>\n",
       "      <td>1.136</td>\n",
       "      <td>-0.216</td>\n",
       "      <td>-0.216</td>\n",
       "      <td>5.0</td>\n",
       "      <td>PID028</td>\n",
       "    </tr>\n",
       "    <tr>\n",
       "      <th>96719</th>\n",
       "      <td>2021-09-08T11:31:18.626000Z</td>\n",
       "      <td>2021-09-08 13:31:18.626000+02:00</td>\n",
       "      <td>1.631100e+12</td>\n",
       "      <td>1.352</td>\n",
       "      <td>-0.064</td>\n",
       "      <td>-0.008</td>\n",
       "      <td>5.0</td>\n",
       "      <td>PID028</td>\n",
       "    </tr>\n",
       "    <tr>\n",
       "      <th>96720</th>\n",
       "      <td>2021-09-08T11:31:19.188000Z</td>\n",
       "      <td>2021-09-08 13:31:19.188000+02:00</td>\n",
       "      <td>1.631100e+12</td>\n",
       "      <td>1.056</td>\n",
       "      <td>-0.784</td>\n",
       "      <td>-0.472</td>\n",
       "      <td>5.0</td>\n",
       "      <td>PID028</td>\n",
       "    </tr>\n",
       "    <tr>\n",
       "      <th>96721</th>\n",
       "      <td>2021-09-08T11:32:25.923000Z</td>\n",
       "      <td>2021-09-08 13:32:25.923000+02:00</td>\n",
       "      <td>1.631100e+12</td>\n",
       "      <td>1.040</td>\n",
       "      <td>-0.104</td>\n",
       "      <td>-0.096</td>\n",
       "      <td>5.0</td>\n",
       "      <td>PID028</td>\n",
       "    </tr>\n",
       "    <tr>\n",
       "      <th>96722</th>\n",
       "      <td>2021-09-08T11:32:26.003000Z</td>\n",
       "      <td>2021-09-08 13:32:26.003000+02:00</td>\n",
       "      <td>1.631100e+12</td>\n",
       "      <td>1.048</td>\n",
       "      <td>-0.072</td>\n",
       "      <td>-0.088</td>\n",
       "      <td>5.0</td>\n",
       "      <td>PID028</td>\n",
       "    </tr>\n",
       "  </tbody>\n",
       "</table>\n",
       "<p>96723 rows × 8 columns</p>\n",
       "</div>"
      ],
      "text/plain": [
       "                               utc                             local  \\\n",
       "0      2021-09-03T07:36:38.794000Z  2021-09-03 09:36:38.794000+02:00   \n",
       "1      2021-09-03T07:37:07.659000Z  2021-09-03 09:37:07.659000+02:00   \n",
       "2      2021-09-03T07:37:07.564000Z  2021-09-03 09:37:07.564000+02:00   \n",
       "3      2021-09-03T07:37:07.470000Z  2021-09-03 09:37:07.470000+02:00   \n",
       "4      2021-09-03T07:37:07.376000Z  2021-09-03 09:37:07.376000+02:00   \n",
       "...                            ...                               ...   \n",
       "96718  2021-09-08T11:31:18.707000Z  2021-09-08 13:31:18.707000+02:00   \n",
       "96719  2021-09-08T11:31:18.626000Z  2021-09-08 13:31:18.626000+02:00   \n",
       "96720  2021-09-08T11:31:19.188000Z  2021-09-08 13:31:19.188000+02:00   \n",
       "96721  2021-09-08T11:32:25.923000Z  2021-09-08 13:32:25.923000+02:00   \n",
       "96722  2021-09-08T11:32:26.003000Z  2021-09-08 13:32:26.003000+02:00   \n",
       "\n",
       "             unixts      x      y      z  label      ID  \n",
       "0      1.630000e+12  0.240  0.992 -0.080    1.0  PID008  \n",
       "1      1.630000e+12  0.152  1.008 -0.136    1.0  PID008  \n",
       "2      1.630000e+12  0.152  1.008 -0.136    1.0  PID008  \n",
       "3      1.630000e+12  0.152  1.008 -0.136    1.0  PID008  \n",
       "4      1.630000e+12  0.152  1.008 -0.136    1.0  PID008  \n",
       "...             ...    ...    ...    ...    ...     ...  \n",
       "96718  1.631100e+12  1.136 -0.216 -0.216    5.0  PID028  \n",
       "96719  1.631100e+12  1.352 -0.064 -0.008    5.0  PID028  \n",
       "96720  1.631100e+12  1.056 -0.784 -0.472    5.0  PID028  \n",
       "96721  1.631100e+12  1.040 -0.104 -0.096    5.0  PID028  \n",
       "96722  1.631100e+12  1.048 -0.072 -0.088    5.0  PID028  \n",
       "\n",
       "[96723 rows x 8 columns]"
      ]
     },
     "execution_count": 7,
     "metadata": {},
     "output_type": "execute_result"
    }
   ],
   "source": [
    "df_all_back"
   ]
  },
  {
   "cell_type": "code",
   "execution_count": 52,
   "metadata": {},
   "outputs": [
    {
     "data": {
      "text/plain": [
       "<AxesSubplot:>"
      ]
     },
     "execution_count": 52,
     "metadata": {},
     "output_type": "execute_result"
    },
    {
     "data": {
      "image/png": "[encoded data removed]",
      "text/plain": [
       "<Figure size 432x288 with 1 Axes>"
      ]
     },
     "metadata": {
      "needs_background": "light"
     },
     "output_type": "display_data"
    }
   ],
   "source": [
    "df_plotting = df_all_back[df_all_back['ID']=='PID018'].reset_index(drop=True)\n",
    "df_plotting.iloc[:, 3:7].plot()"
   ]
  },
  {
   "cell_type": "markdown",
   "metadata": {},
   "source": [
    "## Subject specific train-test split"
   ]
  },
  {
   "cell_type": "code",
   "execution_count": 8,
   "metadata": {},
   "outputs": [
    {
     "name": "stdout",
     "output_type": "stream",
     "text": [
      "Train shape: (75283, 8)\n",
      "Test shape: (21440, 8)\n",
      "\n",
      "Train subjects: ['PID008' 'PID009' 'PID011' 'PID012' 'PID013' 'PID014' 'PID015' 'PID016'\n",
      " 'PID017' 'PID018' 'PID019' 'PID020' 'PID022' 'PID023' 'PID027' 'PID028']\n",
      "\n",
      "Test subjects: ['PID010' 'PID024' 'PID025' 'PID026']\n"
     ]
    }
   ],
   "source": [
    "IDs = ['PID008', 'PID009', 'PID010','PID011','PID012','PID013', 'PID014',\n",
    "       'PID015','PID016','PID017','PID018','PID019', 'PID020', 'PID021', \n",
    "       'PID022', 'PID023', 'PID024', 'PID025', 'PID026', 'PID027', 'PID028']\n",
    "\n",
    "random.seed(41)\n",
    "train_subjects = random.sample(IDs, 16)\n",
    "test_subjects = [x for x in IDs if x not in train_subjects]\n",
    "\n",
    "df_train = df_all_back[df_all_back['ID'].isin(train_subjects)].reset_index(drop=True)\n",
    "df_test = df_all_back[df_all_back['ID'].isin(test_subjects)].reset_index(drop=True)\n",
    "\n",
    "print('Train shape: {}'.format(df_train.shape))\n",
    "print('Test shape: {}'.format(df_test.shape))\n",
    "print()\n",
    "print('Train subjects: {}'.format(df_train.loc[:, 'ID'].unique()))\n",
    "print()\n",
    "print('Test subjects: {}'.format(df_test.loc[:, 'ID'].unique()))"
   ]
  },
  {
   "cell_type": "markdown",
   "metadata": {},
   "source": [
    "## Convert to a binary classification (walking vs others)"
   ]
  },
  {
   "cell_type": "code",
   "execution_count": 9,
   "metadata": {},
   "outputs": [],
   "source": [
    "df_train['label'] = df_train['label'].replace([1.0, 2.0, 3.0, 4.0], 1.0)\n",
    "df_train['label'] = df_train['label'].replace([5.0], 2.0)\n",
    "df_test['label'] = df_test['label'].replace([1.0, 2.0, 3.0, 4.0], 1.0)\n",
    "df_test['label'] = df_test['label'].replace([5.0], 2.0)"
   ]
  },
  {
   "cell_type": "code",
   "execution_count": 145,
   "metadata": {},
   "outputs": [
    {
     "data": {
      "image/png": "[encoded data removed]",
      "text/plain": [
       "<Figure size 432x288 with 1 Axes>"
      ]
     },
     "metadata": {
      "needs_background": "light"
     },
     "output_type": "display_data"
    }
   ],
   "source": [
    "df_plotting = df_train[df_train['ID']=='PID018'].reset_index(drop=True)\n",
    "fig_df = df_plotting.iloc[:, 3:6].plot(fontsize=14)\n",
    "fig_df.set_ylabel('Acceleration $(m/s^2)$', fontdict={'fontsize': 15})\n",
    "fig_df.set_xlabel('Samples', fontdict={'fontsize': 15})\n",
    "fig_df.axvspan(2710, 4258, color='red', alpha=0.15)\n",
    "fig_df.axvspan(0, 2709, color='orange', alpha=0.15)\n",
    "fig_df.legend(fontsize='x-large', loc='lower left', bbox_to_anchor=(0.15, -0.35), ncol=3)\n",
    "fig_df.text(50, 1.4, r'Other activities (non-walking)', fontdict={'weight': 'normal','size': 14})\n",
    "fig_df.text(3150, 1.4, r'Walking', fontdict={'weight': 'normal','size': 14})\n",
    "fig_df.figure.tight_layout()\n",
    "fig_df.figure.savefig('data_example.pdf')\n"
   ]
  },
  {
   "cell_type": "markdown",
   "metadata": {},
   "source": [
    "## Data pre-processing (scaling, sliding window, etc.)"
   ]
  },
  {
   "cell_type": "code",
   "execution_count": 10,
   "metadata": {},
   "outputs": [],
   "source": [
    "x_train = df_train[['x', 'y', 'z']].values\n",
    "x_test = df_test[['x', 'y', 'z']].values"
   ]
  },
  {
   "cell_type": "code",
   "execution_count": 11,
   "metadata": {},
   "outputs": [],
   "source": [
    "def sliding_window(a, w, o, copy):\n",
    "    sh = (a.size - w + 1, w)\n",
    "    \n",
    "    st = a.strides * 2\n",
    "    view = np.lib.stride_tricks.as_strided(a, strides = st, shape = sh)[0::o]\n",
    "    if copy:\n",
    "        return view.copy()\n",
    "    else:\n",
    "        return view"
   ]
  },
  {
   "cell_type": "code",
   "execution_count": 17,
   "metadata": {},
   "outputs": [],
   "source": [
    "w = 50 \n",
    "o = 10\n",
    "xAxis_win_tr = sliding_window(df_train['x'].to_numpy(), w, o, copy = True)\n",
    "yAxis_win_tr = sliding_window(df_train['y'].to_numpy(), w, o, copy = True)\n",
    "zAxis_win_tr = sliding_window(df_train['z'].to_numpy(), w, o, copy = True)\n",
    "\n",
    "xAxis_win_ts = sliding_window(df_test['x'].to_numpy(), w, o, copy = True)\n",
    "yAxis_win_ts = sliding_window(df_test['y'].to_numpy(), w, o, copy = True)\n",
    "zAxis_win_ts = sliding_window(df_test['z'].to_numpy(), w, o, copy = True)\n",
    "\n",
    "y_win_tr = sp.stats.mode(sliding_window(df_train['label'].to_numpy(), w, o, copy = True), axis=1)[0].ravel()\n",
    "y_win_ts = sp.stats.mode(sliding_window(df_test['label'].to_numpy(), w, o, copy = True), axis=1)[0].ravel()\n",
    "\n",
    "xy_stack_tr = np.dstack((xAxis_win_tr, yAxis_win_tr))\n",
    "xyzAxis_win_tr = np.dstack((xy_stack_tr, zAxis_win_tr))\n",
    "\n",
    "xy_stack_ts = np.dstack((xAxis_win_ts, yAxis_win_ts))\n",
    "xyzAxis_win_ts = np.dstack((xy_stack_ts, zAxis_win_ts))"
   ]
  },
  {
   "cell_type": "code",
   "execution_count": 25,
   "metadata": {},
   "outputs": [
    {
     "name": "stdout",
     "output_type": "stream",
     "text": [
      "*** Feature extraction started ***\n"
     ]
    },
    {
     "data": {
      "text/html": [
       "\n",
       "              <p>\n",
       "                  Progress: 100% Complete\n",
       "              <p/>            \n",
       "              <progress\n",
       "                  value='10'\n",
       "                  max='10',\n",
       "                  style='width: 25%',\n",
       "              >\n",
       "                  10\n",
       "              </progress>\n",
       "\n",
       "    "
      ],
      "text/plain": [
       "<IPython.core.display.HTML object>"
      ]
     },
     "metadata": {},
     "output_type": "display_data"
    },
    {
     "name": "stdout",
     "output_type": "stream",
     "text": [
      "\n",
      "*** Feature extraction finished ***\n"
     ]
    }
   ],
   "source": [
    "cfg = tsfel.get_features_by_domain()\n",
    "\n",
    "feat_test = tsfel.time_series_features_extractor(cfg, xAxis_win_tr[0:10], fs=11)"
   ]
  },
  {
   "cell_type": "markdown",
   "metadata": {},
   "source": [
    "## ML model"
   ]
  },
  {
   "cell_type": "markdown",
   "metadata": {},
   "source": [
    "### Feature extraction usin TSFEL package"
   ]
  },
  {
   "cell_type": "code",
   "execution_count": null,
   "metadata": {},
   "outputs": [
    {
     "name": "stdout",
     "output_type": "stream",
     "text": [
      "*** Feature extraction started ***\n"
     ]
    },
    {
     "data": {
      "text/html": [
       "\n",
       "              <p>\n",
       "                  Progress: 17% Complete\n",
       "              <p/>            \n",
       "              <progress\n",
       "                  value='1215'\n",
       "                  max='7101',\n",
       "                  style='width: 25%',\n",
       "              >\n",
       "                  1215\n",
       "              </progress>\n",
       "\n",
       "    "
      ],
      "text/plain": [
       "<IPython.core.display.HTML object>"
      ]
     },
     "metadata": {},
     "output_type": "display_data"
    }
   ],
   "source": [
    "cfg = tsfel.get_features_by_domain()\n",
    "\n",
    "feat_x_tr = tsfel.time_series_features_extractor(cfg, xyzAxis_win_tr[:,:,0], fs=11)\n",
    "feat_y_tr = tsfel.time_series_features_extractor(cfg, xyzAxis_win_tr[:,:,1], fs=11)\n",
    "feat_z_tr = tsfel.time_series_features_extractor(cfg, xyzAxis_win_tr[:,:,2], fs=11)\n",
    "\n",
    "feat_x_ts = tsfel.time_series_features_extractor(cfg, xyzAxis_win_ts[:,:,0], fs=11)\n",
    "feat_y_ts = tsfel.time_series_features_extractor(cfg, xyzAxis_win_ts[:,:,1], fs=11)\n",
    "feat_z_ts = tsfel.time_series_features_extractor(cfg, xyzAxis_win_ts[:,:,2], fs=11)"
   ]
  },
  {
   "cell_type": "code",
   "execution_count": 104,
   "metadata": {},
   "outputs": [],
   "source": [
    "xyzAxis_win_tr = feat_x_tr.values.T\n",
    "xyzAxis_win_ts = feat_x_ts.values.T"
   ]
  },
  {
   "cell_type": "markdown",
   "metadata": {},
   "source": [
    "### Manual feature extraction "
   ]
  },
  {
   "cell_type": "code",
   "execution_count": 126,
   "metadata": {},
   "outputs": [
    {
     "name": "stderr",
     "output_type": "stream",
     "text": [
      "<ipython-input-126-65c2e0fc9c9c>:5: RuntimeWarning: invalid value encountered in log2\n",
      "  Shannon = -np.sum(pA*np.log2(pA))\n",
      "<ipython-input-126-65c2e0fc9c9c>:5: RuntimeWarning: divide by zero encountered in log2\n",
      "  Shannon = -np.sum(pA*np.log2(pA))\n",
      "<ipython-input-126-65c2e0fc9c9c>:5: RuntimeWarning: invalid value encountered in multiply\n",
      "  Shannon = -np.sum(pA*np.log2(pA))\n",
      "<ipython-input-126-65c2e0fc9c9c>:4: RuntimeWarning: invalid value encountered in true_divide\n",
      "  pA = arr[i] / arr[i].sum()\n",
      "<ipython-input-126-65c2e0fc9c9c>:4: RuntimeWarning: divide by zero encountered in true_divide\n",
      "  pA = arr[i] / arr[i].sum()\n"
     ]
    }
   ],
   "source": [
    "def shannon_entr(arr):\n",
    "    temp = []\n",
    "    for i in range(arr.shape[0]):\n",
    "        pA = arr[i] / arr[i].sum()\n",
    "        Shannon = -np.sum(pA*np.log2(pA))\n",
    "        temp.append(Shannon)\n",
    "        \n",
    "    return temp\n",
    "\n",
    "\n",
    "def mad(data, axis=None, scale=1.4826, keepdims=False):\n",
    "    \"\"\"Median absolute deviation (MAD).\n",
    "    \n",
    "    Defined as the median absolute deviation from the median of the data. A\n",
    "    robust alternative to stddev. Results should be identical to\n",
    "    scipy.stats.median_absolute_deviation(), which does not take a keepdims\n",
    "    argument.\n",
    "\n",
    "    Parameters\n",
    "    ----------\n",
    "    data : array_like\n",
    "        The data.\n",
    "    scale : float, optional\n",
    "        Scaling of the result. By default, it is scaled to give a consistent\n",
    "        estimate of the standard deviation of values from a normal\n",
    "        distribution.\n",
    "    axis : numpy axis spec, optional\n",
    "        Axis or axes along which to compute MAD.\n",
    "    keepdims : bool, optional\n",
    "        If this is set to True, the axes which are reduced are left in the\n",
    "        result as dimensions with size one.\n",
    "\n",
    "    Returns\n",
    "    -------\n",
    "    ndarray\n",
    "        The MAD.\n",
    "    \"\"\"\n",
    "    # keep dims here so that broadcasting works\n",
    "    med = np.median(data, axis=axis, keepdims=True)\n",
    "    abs_devs = np.abs(data - med)\n",
    "    return scale * np.median(abs_devs, axis=axis, keepdims=keepdims)\n",
    "    \n",
    "    \n",
    "mean_win_x_tr = np.mean(xAxis_win_tr, axis=1)\n",
    "mean_win_y_tr = np.mean(yAxis_win_tr, axis=1)\n",
    "mean_win_z_tr = np.mean(zAxis_win_tr, axis=1)\n",
    "\n",
    "std_win_x_tr = np.std(xAxis_win_tr, axis=1)\n",
    "std_win_y_tr = np.std(yAxis_win_tr, axis=1)\n",
    "std_win_z_tr = np.std(zAxis_win_tr, axis=1)\n",
    "\n",
    "mean_win_x_ts = np.mean(xAxis_win_ts, axis=1)\n",
    "mean_win_y_ts = np.mean(yAxis_win_ts, axis=1)\n",
    "mean_win_z_ts = np.mean(zAxis_win_ts, axis=1)\n",
    "\n",
    "std_win_x_ts = np.std(xAxis_win_ts, axis=1)\n",
    "std_win_y_ts = np.std(yAxis_win_ts, axis=1)\n",
    "std_win_z_ts = np.std(zAxis_win_ts, axis=1)\n",
    "\n",
    "max_std_xyz_tr = np.max(np.stack([std_win_x_tr, std_win_y_tr, std_win_z_tr]), axis=0)\n",
    "max_std_xyz_ts = np.max(np.stack([std_win_x_ts, std_win_y_ts, std_win_z_ts]), axis=0)\n",
    "\n",
    "shann_x_tr = np.nan_to_num(np.array(shannon_entr(xAxis_win_tr)))\n",
    "shann_y_tr = np.nan_to_num(np.array(shannon_entr(yAxis_win_tr)))\n",
    "shann_z_tr = np.nan_to_num(np.array(shannon_entr(zAxis_win_tr)))\n",
    "\n",
    "shann_x_ts = np.nan_to_num(np.array(shannon_entr(xAxis_win_ts)))\n",
    "shann_y_ts = np.nan_to_num(np.array(shannon_entr(xAxis_win_ts)))\n",
    "shann_z_ts = np.nan_to_num(np.array(shannon_entr(xAxis_win_ts)))\n",
    "\n",
    "energy_x_tr = np.sum(xAxis_win_tr**2, axis=1)/xAxis_win_tr.shape[1]\n",
    "energy_y_tr = np.sum(yAxis_win_tr**2, axis=1)/yAxis_win_tr.shape[1]\n",
    "energy_z_tr = np.sum(zAxis_win_tr**2, axis=1)/zAxis_win_tr.shape[1]\n",
    "\n",
    "energy_x_ts = np.sum(xAxis_win_ts**2, axis=1)/xAxis_win_ts.shape[1]\n",
    "energy_y_ts = np.sum(yAxis_win_ts**2, axis=1)/yAxis_win_ts.shape[1]\n",
    "energy_z_ts = np.sum(zAxis_win_ts**2, axis=1)/zAxis_win_ts.shape[1]\n",
    "\n",
    "mad_x_tr = mad(xAxis_win_tr, axis=1, scale=1.4826, keepdims=False)\n",
    "mad_y_tr = mad(yAxis_win_tr, axis=1, scale=1.4826, keepdims=False)\n",
    "mad_z_tr = mad(zAxis_win_tr, axis=1, scale=1.4826, keepdims=False)\n",
    "\n",
    "mad_x_ts = mad(xAxis_win_ts, axis=1, scale=1.4826, keepdims=False)\n",
    "mad_y_ts = mad(yAxis_win_ts, axis=1, scale=1.4826, keepdims=False)\n",
    "mad_z_ts = mad(zAxis_win_ts, axis=1, scale=1.4826, keepdims=False)\n",
    "\n",
    "\n"
   ]
  },
  {
   "cell_type": "code",
   "execution_count": 127,
   "metadata": {},
   "outputs": [],
   "source": [
    "xyzAxis_win_tr = np.stack([mean_win_x_tr, mean_win_y_tr, mean_win_z_tr,\n",
    "                           std_win_x_tr, std_win_y_tr, std_win_z_tr, \n",
    "                           max_std_xyz_tr, \n",
    "                           shann_x_tr, shann_y_tr, shann_z_tr,\n",
    "                          energy_x_tr, energy_y_tr, energy_z_tr,\n",
    "                         mad_x_tr, mad_y_tr, mad_z_tr])\n",
    "\n",
    "xyzAxis_win_ts = np.stack([mean_win_x_ts, mean_win_y_ts, mean_win_z_ts, \n",
    "                           std_win_x_ts, std_win_y_ts, std_win_z_ts, \n",
    "                           max_std_xyz_ts, \n",
    "                           shann_x_ts, shann_y_ts, shann_z_ts,\n",
    "                          energy_x_ts, energy_y_ts, energy_z_ts,\n",
    "                          mad_x_ts, mad_y_ts, mad_z_ts])\n"
   ]
  },
  {
   "cell_type": "markdown",
   "metadata": {},
   "source": [
    "## Intra-patient analysis (leave one group out CV) "
   ]
  },
  {
   "cell_type": "raw",
   "metadata": {},
   "source": []
  },
  {
   "cell_type": "code",
   "execution_count": 11,
   "metadata": {},
   "outputs": [
    {
     "data": {
      "text/html": [
       "\n",
       "              <p>\n",
       "                  Progress: 0% Complete\n",
       "              <p/>            \n",
       "              <progress\n",
       "                  value='0'\n",
       "                  max='4565',\n",
       "                  style='width: 25%',\n",
       "              >\n",
       "                  0\n",
       "              </progress>\n",
       "\n",
       "    "
      ],
      "text/plain": [
       "<IPython.core.display.HTML object>"
      ]
     },
     "metadata": {},
     "output_type": "display_data"
    },
    {
     "data": {
      "text/html": [
       "\n",
       "              <p>\n",
       "                  Progress: 0% Complete\n",
       "              <p/>            \n",
       "              <progress\n",
       "                  value='0'\n",
       "                  max='4565',\n",
       "                  style='width: 25%',\n",
       "              >\n",
       "                  0\n",
       "              </progress>\n",
       "\n",
       "    "
      ],
      "text/plain": [
       "<IPython.core.display.HTML object>"
      ]
     },
     "metadata": {},
     "output_type": "display_data"
    },
    {
     "data": {
      "text/html": [
       "\n",
       "              <p>\n",
       "                  Progress: 0% Complete\n",
       "              <p/>            \n",
       "              <progress\n",
       "                  value='0'\n",
       "                  max='4565',\n",
       "                  style='width: 25%',\n",
       "              >\n",
       "                  0\n",
       "              </progress>\n",
       "\n",
       "    "
      ],
      "text/plain": [
       "<IPython.core.display.HTML object>"
      ]
     },
     "metadata": {},
     "output_type": "display_data"
    },
    {
     "data": {
      "text/html": [
       "\n",
       "              <p>\n",
       "                  Progress: 0% Complete\n",
       "              <p/>            \n",
       "              <progress\n",
       "                  value='0'\n",
       "                  max='105',\n",
       "                  style='width: 25%',\n",
       "              >\n",
       "                  0\n",
       "              </progress>\n",
       "\n",
       "    "
      ],
      "text/plain": [
       "<IPython.core.display.HTML object>"
      ]
     },
     "metadata": {},
     "output_type": "display_data"
    },
    {
     "data": {
      "text/html": [
       "\n",
       "              <p>\n",
       "                  Progress: 0% Complete\n",
       "              <p/>            \n",
       "              <progress\n",
       "                  value='0'\n",
       "                  max='105',\n",
       "                  style='width: 25%',\n",
       "              >\n",
       "                  0\n",
       "              </progress>\n",
       "\n",
       "    "
      ],
      "text/plain": [
       "<IPython.core.display.HTML object>"
      ]
     },
     "metadata": {},
     "output_type": "display_data"
    },
    {
     "data": {
      "text/html": [
       "\n",
       "              <p>\n",
       "                  Progress: 0% Complete\n",
       "              <p/>            \n",
       "              <progress\n",
       "                  value='0'\n",
       "                  max='105',\n",
       "                  style='width: 25%',\n",
       "              >\n",
       "                  0\n",
       "              </progress>\n",
       "\n",
       "    "
      ],
      "text/plain": [
       "<IPython.core.display.HTML object>"
      ]
     },
     "metadata": {},
     "output_type": "display_data"
    },
    {
     "name": "stdout",
     "output_type": "stream",
     "text": [
      "Feature Size: 200\n",
      "The performance on the PID008:\n",
      "\n",
      "ACCURACY OF THE MODEL:  1.0\n",
      "\n",
      "                  precision    recall  f1-score   support\n",
      "\n",
      "other activities       1.00      1.00      1.00        93\n",
      "         walking       1.00      1.00      1.00        12\n",
      "\n",
      "        accuracy                           1.00       105\n",
      "       macro avg       1.00      1.00      1.00       105\n",
      "    weighted avg       1.00      1.00      1.00       105\n",
      "\n"
     ]
    },
    {
     "data": {
      "text/html": [
       "\n",
       "              <p>\n",
       "                  Progress: 0% Complete\n",
       "              <p/>            \n",
       "              <progress\n",
       "                  value='0'\n",
       "                  max='4496',\n",
       "                  style='width: 25%',\n",
       "              >\n",
       "                  0\n",
       "              </progress>\n",
       "\n",
       "    "
      ],
      "text/plain": [
       "<IPython.core.display.HTML object>"
      ]
     },
     "metadata": {},
     "output_type": "display_data"
    },
    {
     "data": {
      "text/html": [
       "\n",
       "              <p>\n",
       "                  Progress: 0% Complete\n",
       "              <p/>            \n",
       "              <progress\n",
       "                  value='0'\n",
       "                  max='4496',\n",
       "                  style='width: 25%',\n",
       "              >\n",
       "                  0\n",
       "              </progress>\n",
       "\n",
       "    "
      ],
      "text/plain": [
       "<IPython.core.display.HTML object>"
      ]
     },
     "metadata": {},
     "output_type": "display_data"
    },
    {
     "data": {
      "text/html": [
       "\n",
       "              <p>\n",
       "                  Progress: 0% Complete\n",
       "              <p/>            \n",
       "              <progress\n",
       "                  value='0'\n",
       "                  max='4496',\n",
       "                  style='width: 25%',\n",
       "              >\n",
       "                  0\n",
       "              </progress>\n",
       "\n",
       "    "
      ],
      "text/plain": [
       "<IPython.core.display.HTML object>"
      ]
     },
     "metadata": {},
     "output_type": "display_data"
    },
    {
     "data": {
      "text/html": [
       "\n",
       "              <p>\n",
       "                  Progress: 0% Complete\n",
       "              <p/>            \n",
       "              <progress\n",
       "                  value='0'\n",
       "                  max='162',\n",
       "                  style='width: 25%',\n",
       "              >\n",
       "                  0\n",
       "              </progress>\n",
       "\n",
       "    "
      ],
      "text/plain": [
       "<IPython.core.display.HTML object>"
      ]
     },
     "metadata": {},
     "output_type": "display_data"
    },
    {
     "data": {
      "text/html": [
       "\n",
       "              <p>\n",
       "                  Progress: 0% Complete\n",
       "              <p/>            \n",
       "              <progress\n",
       "                  value='0'\n",
       "                  max='162',\n",
       "                  style='width: 25%',\n",
       "              >\n",
       "                  0\n",
       "              </progress>\n",
       "\n",
       "    "
      ],
      "text/plain": [
       "<IPython.core.display.HTML object>"
      ]
     },
     "metadata": {},
     "output_type": "display_data"
    },
    {
     "data": {
      "text/html": [
       "\n",
       "              <p>\n",
       "                  Progress: 0% Complete\n",
       "              <p/>            \n",
       "              <progress\n",
       "                  value='0'\n",
       "                  max='162',\n",
       "                  style='width: 25%',\n",
       "              >\n",
       "                  0\n",
       "              </progress>\n",
       "\n",
       "    "
      ],
      "text/plain": [
       "<IPython.core.display.HTML object>"
      ]
     },
     "metadata": {},
     "output_type": "display_data"
    },
    {
     "name": "stdout",
     "output_type": "stream",
     "text": [
      "Feature Size: 217\n",
      "The performance on the PID009:\n",
      "\n",
      "ACCURACY OF THE MODEL:  0.9691358024691358\n",
      "\n",
      "                  precision    recall  f1-score   support\n",
      "\n",
      "other activities       1.00      0.96      0.98       141\n",
      "         walking       0.81      1.00      0.89        21\n",
      "\n",
      "        accuracy                           0.97       162\n",
      "       macro avg       0.90      0.98      0.94       162\n",
      "    weighted avg       0.98      0.97      0.97       162\n",
      "\n"
     ]
    }
   ],
   "source": [
    "df_all_back = pd.read_csv('../data/df_all_back.csv', delimiter=None, header='infer')\n",
    "\n",
    "df_all_back[df_all_back['ID'].isin(['PID008','PID009'])]\n",
    "step=0\n",
    "\n",
    "logo = LeaveOneGroupOut()\n",
    "ids = df_all_back.loc[:, 'ID']\n",
    "logo.get_n_splits(groups=ids)\n",
    "\n",
    "df_all_back['label'] = df_all_back['label'].replace([1.0, 2.0, 3.0, 4.0], 1.0)\n",
    "df_all_back['label'] = df_all_back['label'].replace([5.0], 2.0)\n",
    "\n",
    "X = df_all_back.loc[:, ['x', 'y', 'z']].values\n",
    "y = df_all_back.loc[:, 'label'].values - 1\n",
    "\n",
    "ada = ADASYN(random_state=42)\n",
    "\n",
    "w = 66 #50\n",
    "o = 33 #25\n",
    "\n",
    "preds_all = []\n",
    "proba_all = []\n",
    "y_ts_win_all = []\n",
    "acc_all = []\n",
    "fmdl_all = []\n",
    "\n",
    "cfg = tsfel.get_features_by_domain()\n",
    "\n",
    "for train_index, test_index in logo.split(X, y, ids):\n",
    "    \n",
    "    if step!=2:\n",
    "    \n",
    "        X_train, X_test = X[train_index], X[test_index]\n",
    "        y_train, y_test = y[train_index], y[test_index]\n",
    "\n",
    "        X_train_res, y_train_res = ada.fit_resample(X_train, y_train)\n",
    "\n",
    "        x_tr_win = sliding_window(X_train_res.T[0,:], w, o, copy = True)\n",
    "        y_tr_win = sliding_window(X_train_res.T[1,:], w, o, copy = True)\n",
    "        z_tr_win = sliding_window(X_train_res.T[2,:], w, o, copy = True)\n",
    "\n",
    "        x_ts_win = sliding_window(X_test.T[0,:], w, o, copy = True)\n",
    "        y_ts_win = sliding_window(X_test.T[1,:], w, o, copy = True)\n",
    "        z_ts_win = sliding_window(X_test.T[2,:], w, o, copy = True)\n",
    "\n",
    "        label_tr_win = sp.stats.mode(sliding_window(y_train_res, w, o, copy = True), axis=1)[0].ravel()\n",
    "        label_ts_win = sp.stats.mode(sliding_window(y_test, w, o, copy = True), axis=1)[0].ravel()\n",
    "\n",
    "        feat_x_tr = tsfel.time_series_features_extractor(cfg, x_tr_win, fs=11, verbose=0)\n",
    "        feat_y_tr = tsfel.time_series_features_extractor(cfg, y_tr_win, fs=11, verbose=0)\n",
    "        feat_z_tr = tsfel.time_series_features_extractor(cfg, z_tr_win, fs=11, verbose=0)\n",
    "\n",
    "        feat_xyz_tr = pd.concat([feat_x_tr, feat_y_tr, feat_z_tr], axis=1)\n",
    "\n",
    "        feat_x_ts = tsfel.time_series_features_extractor(cfg, x_ts_win, fs=11, verbose=0)\n",
    "        feat_y_ts = tsfel.time_series_features_extractor(cfg, y_ts_win, fs=11, verbose=0)\n",
    "        feat_z_ts = tsfel.time_series_features_extractor(cfg, z_ts_win, fs=11, verbose=0)\n",
    "\n",
    "        feat_xyz_ts = pd.concat([feat_x_ts, feat_y_ts, feat_z_ts], axis=1)\n",
    "\n",
    "\n",
    "\n",
    "        # parameter\n",
    "        k = 5     # k-value in KNN\n",
    "        N = 10    # number of particles\n",
    "        T = 100   # maximum number of iterations\n",
    "        fold = {'xt':feat_xyz_tr.values, 'yt':label_tr_win, 'xv':feat_xyz_ts.values, 'yv':label_ts_win}\n",
    "        opts = {'k':k, 'fold':fold, 'N':N, 'T':T}\n",
    "\n",
    "        # perform feature selection\n",
    "        fmdl = jfs(feat_xyz_tr.values, label_tr_win, opts)\n",
    "        sf = fmdl['sf']\n",
    "\n",
    "        # model with selected features\n",
    "        num_train = np.size(feat_xyz_tr.values, 0)\n",
    "        num_valid = np.size(feat_xyz_ts.values, 0)\n",
    "        xtrain = feat_xyz_tr.values[:, sf]\n",
    "        ytrain = label_tr_win.reshape(num_train)  # Solve bug\n",
    "        xtest = feat_xyz_ts.values[:, sf]\n",
    "        ytest = label_ts_win.reshape(num_valid)  # Solve bug\n",
    "\n",
    "        distributions = dict(n_neighbors=[3, 5, 7, 10])\n",
    "        search = RandomizedSearchCV(KNeighborsClassifier(), distributions, random_state=0)\n",
    "        search.fit(xtrain, ytrain)\n",
    "        model = KNeighborsClassifier(n_neighbors = search.best_params_['n_neighbors'])\n",
    "        model.fit(xtrain, ytrain)\n",
    "\n",
    "        # number of selected features\n",
    "        num_feat = fmdl['nf']\n",
    "        print(\"Feature Size:\", num_feat)\n",
    "\n",
    "        fmdl_all.append(fmdl)\n",
    "\n",
    "        y_pred_ts = model.predict(xtest)\n",
    "        y_proba_ts = model.predict_proba(xtest)\n",
    "\n",
    "        preds_all.append(y_pred_ts)\n",
    "        proba_all.append(y_proba_ts)\n",
    "        y_ts_win_all.append(ytest)\n",
    "\n",
    "        print('The performance on the {}:'.format(df_all_back.loc[test_index[0], 'ID']))\n",
    "        print()\n",
    "        acc = accuracy_score(ytest, y_pred_ts)\n",
    "        print(\"ACCURACY OF THE MODEL: \", acc)\n",
    "        print()\n",
    "        print(classification_report(ytest, y_pred_ts, target_names=['other activities', 'walking']))\n",
    "\n",
    "        acc_all.append(acc) \n",
    "\n",
    "        step+=1\n",
    "\n",
    "preds_all = np.array(preds_all)\n",
    "proba_all = np.array(proba_all)\n",
    "y_ts_win_all = np.array(y_ts_win_all)\n",
    "\n",
    "\n",
    "with open('../saved_results/pred_all_50_25.npy', 'wb') as f:\n",
    "    np.save(f, np.array(preds_all))\n",
    "    \n",
    "with open('../saved_results/proba_all_50_25.npy', 'wb') as f:\n",
    "    np.save(f, np.array(proba_all))\n",
    "    \n",
    "with open('../saved_results/y_ts_win_all_50_25.npy', 'wb') as f:\n",
    "    np.save(f, np.array(y_ts_win_all))\n",
    "    \n",
    "with open('../saved_results/acc_all_50_25.npy', 'wb') as f:\n",
    "    np.save(f, np.array(acc_all))\n",
    "    \n",
    "with open('../saved_results/fmdl_all_50_25.npy', 'wb') as f:\n",
    "    np.save(f, np.array(fmdl_all))\n",
    "    \n"
   ]
  },
  {
   "cell_type": "markdown",
   "metadata": {},
   "source": [
    "## Plotting"
   ]
  },
  {
   "cell_type": "code",
   "execution_count": 10,
   "metadata": {
    "scrolled": false
   },
   "outputs": [
    {
     "data": {
      "image/png": "[encoded data removed]",
      "text/plain": [
       "<Figure size 1080x360 with 1 Axes>"
      ]
     },
     "metadata": {},
     "output_type": "display_data"
    },
    {
     "name": "stdout",
     "output_type": "stream",
     "text": [
      "Avg. accuracy of kNN: 85.75\n",
      "Avg. accuracy of Random Forest: 88.53\n",
      "Avg. accuracy of XGBoost: 88.47\n",
      "Avg. accuracy of Stacked Classifier: 89.22\n"
     ]
    },
    {
     "data": {
      "text/plain": [
       "<Figure size 432x288 with 0 Axes>"
      ]
     },
     "metadata": {},
     "output_type": "display_data"
    }
   ],
   "source": [
    "preds_all_rf = np.load('../saved_results/pred_all_rf_50_25.npy', allow_pickle=True)\n",
    "y_ts_win_all_rf = np.load('../saved_results/y_ts_win_all_rf_50_25.npy', allow_pickle=True)\n",
    "preds_all_knn = np.load('../saved_results/pred_all_knn_50_25.npy', allow_pickle=True)\n",
    "y_ts_win_all_knn = np.load('../saved_results/y_ts_win_all_knn_50_25.npy', allow_pickle=True)\n",
    "preds_all_xgb = np.load('../saved_results/pred_all_xgb_50_25.npy', allow_pickle=True)\n",
    "y_ts_win_all_xgb = np.load('../saved_results/y_ts_win_all_xgb_50_25.npy', allow_pickle=True)\n",
    "preds_all_stack = np.load('../saved_results/pred_all_stack_50_25.npy', allow_pickle=True)\n",
    "y_ts_win_all_stack = np.load('../saved_results/y_ts_win_all_stack_50_25.npy', allow_pickle=True)\n",
    "\n",
    "def accuracy_all(y_ts_win_all, preds_all):\n",
    "    acc_all = []\n",
    "    for i in range(len(preds_all)):\n",
    "        acc = accuracy_score(y_ts_win_all[i], preds_all[i])\n",
    "        acc_all.append(acc)\n",
    "    return acc_all\n",
    "    \n",
    "acc_all_knn = accuracy_all(y_ts_win_all_knn, preds_all_knn)\n",
    "acc_all_rf = accuracy_all(y_ts_win_all_rf, preds_all_rf)\n",
    "acc_all_xgb = accuracy_all(y_ts_win_all_xgb, preds_all_xgb)\n",
    "acc_all_stack = accuracy_all(y_ts_win_all_stack, preds_all_stack)\n",
    "\n",
    "X_axis = np.arange(len(list(df_all_back['ID'].unique())))\n",
    "  \n",
    "fig = plt.figure(figsize = (15, 5))\n",
    "\n",
    "multiple_lists = [acc_all_knn, acc_all_rf, acc_all_xgb, acc_all_stack]\n",
    "arrays = [np.array(x) for x in multiple_lists]\n",
    "average_acc = [np.mean(k) for k in zip(*arrays)]\n",
    "sum(average_acc)/len(average_acc)\n",
    "\n",
    "plt.bar(X_axis - 0.2, np.array(acc_all_knn), width = 0.2, label = 'kNN', color='k')#, hatch=[\"/\"]\n",
    "plt.bar(X_axis , acc_all_xgb, width = 0.2, label = 'XGB')#, hatch=[\"\\\\\"]\n",
    "plt.bar(X_axis + 0.2, acc_all_rf, width = 0.2, label = 'RF', color='r')#, hatch=[\"-\"]\n",
    "plt.bar(X_axis + 0.4, acc_all_stack, width = 0.2, label = 'Stack', color='g')\n",
    "\n",
    "plt.axhline(y=0.88, color='k', linestyle=':')\n",
    "plt.text(-5.2, 0.88, 'Avg. accuracy = 0.88', verticalalignment='center', fontdict={'fontsize': 16}, color='r')\n",
    "\n",
    "plt.ylim([0, 1.0])\n",
    "plt.xlabel(\"Subject ID\", fontdict={'fontsize': 16})\n",
    "plt.xticks(X_axis, list(df_all_back['ID'].unique()).remove('PID012'))\n",
    "plt.xticks(rotation=0, fontsize=16)\n",
    "plt.yticks(fontsize=16)\n",
    "plt.ylabel(\"Accuracy\", fontdict={'fontsize': 16})\n",
    "plt.title(\"Accuracy of the different models on the individual patients\", fontdict={'fontsize': 16})\n",
    "plt.legend(fontsize='x-large', loc='lower left', bbox_to_anchor=(0.2, -0.35), ncol=4)\n",
    "plt.show()         \n",
    "plt.savefig(\"acc.png\")\n",
    "\n",
    "print('Avg. accuracy of kNN: {:.2f}'.format(sum(acc_all_knn)/len(acc_all_knn)*100))\n",
    "print('Avg. accuracy of Random Forest: {:.2f}'.format(sum(acc_all_rf)/len(acc_all_rf)*100))\n",
    "print('Avg. accuracy of XGBoost: {:.2f}'.format(sum(acc_all_xgb)/len(acc_all_xgb)*100))\n",
    "print('Avg. accuracy of Stacked Classifier: {:.2f}'.format(sum(acc_all_stack)/len(acc_all_stack)*100))\n",
    "\n",
    "sns.set(font_scale=1)"
   ]
  },
  {
   "cell_type": "code",
   "execution_count": 277,
   "metadata": {},
   "outputs": [
    {
     "data": {
      "text/plain": [
       "<AxesSubplot:>"
      ]
     },
     "execution_count": 277,
     "metadata": {},
     "output_type": "execute_result"
    },
    {
     "data": {
      "image/png": "[encoded data removed]",
      "text/plain": [
       "<Figure size 640x440 with 1 Axes>"
      ]
     },
     "metadata": {},
     "output_type": "display_data"
    }
   ],
   "source": [
    "df_021 = df_all_back[df_all_back['ID'] == 'PID021'].reset_index(drop=True)\n",
    "df_021.loc[:, ['x', 'y', 'z', 'label']].plot()"
   ]
  },
  {
   "cell_type": "code",
   "execution_count": 1,
   "metadata": {
    "scrolled": false
   },
   "outputs": [],
   "source": [
    "def metrics(activity, metric, y_ts_win_all, preds_all):\n",
    "    perf_all = []\n",
    "    for i in range(len(preds_all)):\n",
    "        perf = classification_report(y_ts_win_all[i], preds_all[i], \n",
    "                                     output_dict=True, target_names=['other activities', 'walking'])\n",
    "        perf_all.append(perf[activity][metric]) \n",
    "    return perf_all\n",
    "\n",
    "\n",
    "activity = 'macro avg'\n",
    "metric = 'recall'\n",
    "perf_all_knn = metrics(activity, metric, y_ts_win_all_knn, preds_all_knn)\n",
    "perf_all_rf = metrics(activity, metric, y_ts_win_all_rf, preds_all_rf)\n",
    "perf_all_xgb = metrics(activity, metric, y_ts_win_all_xgb, preds_all_xgb)\n",
    "perf_all_stack = metrics(activity, metric, y_ts_win_all_stack, preds_all_stack)\n",
    "\n",
    "X_axis = np.arange(len(list(df_all_back['ID'].unique())))\n",
    "        \n",
    "fig = plt.figure(figsize = (15, 5))\n",
    "\n",
    "plt.bar(X_axis - 0.2, perf_all_knn, width = 0.2, label = 'kNN', color='k')\n",
    "plt.bar(X_axis, perf_all_xgb, width = 0.2, label = 'XGB')\n",
    "plt.bar(X_axis + 0.2, perf_all_rf, width = 0.2, label = 'RF', color='r')\n",
    "plt.bar(X_axis + 0.4, perf_all_stack, width = 0.2, label = 'Stack', color='g')\n",
    "\n",
    "plt.xlabel(\"Subject ID\", fontdict={'fontsize': 16})\n",
    "plt.xticks(X_axis, list(df_all_back['ID'].unique()).remove('PID012'))\n",
    "plt.xticks(rotation=0, fontsize=16)\n",
    "plt.yticks(fontsize=16)\n",
    "plt.ylabel(metric, fontdict={'fontsize': 16})\n",
    "plt.title(\"Performance of the model on the individual patients\", fontdict={'fontsize': 16})\n",
    "plt.legend(fontsize='x-large', loc='lower left', bbox_to_anchor=(0.2, -0.35), ncol=4)\n",
    "plt.show() \n",
    "plt.savefig(\"recall.png\")\n",
    "\n",
    "print('Avg. recall/sensitivity of kNN: {:.2f}'.format(sum(perf_all_knn)/len(perf_all_knn)*100))\n",
    "print('Avg. recall/sensitivity of Random Forest: {:.2f}'.format(sum(perf_all_rf)/len(perf_all_rf)*100))\n",
    "print('Avg. recall/sensitivity of XGBoost: {:.2f}'.format(sum(perf_all_xgb)/len(perf_all_xgb)*100))\n",
    "print('Avg. recall/sensitivity of Stacked Classifier: {:.2f}'.format(sum(perf_all_stack)/len(perf_all_stack)*100))\n",
    "\n",
    "\n",
    "activity = 'macro avg'\n",
    "metric = 'precision'\n",
    "perf_all_knn = metrics(activity, metric, y_ts_win_all_knn, preds_all_knn)\n",
    "perf_all_rf = metrics(activity, metric, y_ts_win_all_rf, preds_all_rf)\n",
    "perf_all_xgb = metrics(activity, metric, y_ts_win_all_xgb, preds_all_xgb)\n",
    "perf_all_stack = metrics(activity, metric, y_ts_win_all_stack, preds_all_stack)\n",
    "\n",
    "        \n",
    "fig = plt.figure(figsize = (15, 5))\n",
    "\n",
    "plt.bar(X_axis - 0.2, perf_all_knn, width = 0.2, label = 'kNN', color='k')\n",
    "plt.bar(X_axis, perf_all_xgb, width = 0.2, label = 'XGB')\n",
    "plt.bar(X_axis + 0.2, perf_all_rf, width = 0.2, label = 'RF', color='r')\n",
    "plt.bar(X_axis + 0.4, perf_all_stack, width = 0.2, label = 'Stack', color='g')\n",
    "\n",
    "plt.xlabel(\"Subject ID\", fontdict={'fontsize': 16})\n",
    "plt.xticks(X_axis, list(df_all_back['ID'].unique()).remove('PID012'))\n",
    "plt.xticks(rotation=0, fontsize=16)\n",
    "plt.yticks(fontsize=16)\n",
    "plt.ylabel(metric, fontdict={'fontsize': 16})\n",
    "plt.title(\"Performance of the model on the individual patients\", fontdict={'fontsize': 16})\n",
    "plt.legend(fontsize='x-large', loc='lower left', bbox_to_anchor=(0.2, -0.35), ncol=4)\n",
    "plt.show() \n",
    "plt.savefig(\"precision.png\")\n",
    "\n",
    "print('Avg. precision of kNN: {:.2f}'.format(sum(perf_all_knn)/len(perf_all_knn)*100))\n",
    "print('Avg. precision of Random Forest: {:.2f}'.format(sum(perf_all_rf)/len(perf_all_rf)*100))\n",
    "print('Avg. precision of XGBoost: {:.2f}'.format(sum(perf_all_xgb)/len(perf_all_xgb)*100))\n",
    "print('Avg. precision of Stacked Classifier: {:.2f}'.format(sum(perf_all_stack)/len(perf_all_stack)*100))\n"
   ]
  },
  {
   "cell_type": "markdown",
   "metadata": {},
   "source": [
    "## Inter-patient analysis"
   ]
  },
  {
   "cell_type": "code",
   "execution_count": 288,
   "metadata": {
    "scrolled": false
   },
   "outputs": [
    {
     "name": "stdout",
     "output_type": "stream",
     "text": [
      "Train shape: (77735, 8)\n",
      "Test shape: (23733, 8)\n",
      "\n",
      "Train subjects: ['PID008' 'PID009' 'PID011' 'PID012' 'PID013' 'PID014' 'PID015' 'PID017'\n",
      " 'PID018' 'PID019' 'PID021' 'PID022' 'PID024' 'PID025' 'PID026' 'PID027']\n",
      "\n",
      "Test subjects: ['PID010' 'PID016' 'PID020' 'PID023' 'PID028']\n"
     ]
    },
    {
     "data": {
      "text/html": [
       "\n",
       "              <p>\n",
       "                  Progress: 0% Complete\n",
       "              <p/>            \n",
       "              <progress\n",
       "                  value='0'\n",
       "                  max='3678',\n",
       "                  style='width: 25%',\n",
       "              >\n",
       "                  0\n",
       "              </progress>\n",
       "\n",
       "    "
      ],
      "text/plain": [
       "<IPython.core.display.HTML object>"
      ]
     },
     "metadata": {},
     "output_type": "display_data"
    },
    {
     "data": {
      "text/html": [
       "\n",
       "              <p>\n",
       "                  Progress: 0% Complete\n",
       "              <p/>            \n",
       "              <progress\n",
       "                  value='0'\n",
       "                  max='3678',\n",
       "                  style='width: 25%',\n",
       "              >\n",
       "                  0\n",
       "              </progress>\n",
       "\n",
       "    "
      ],
      "text/plain": [
       "<IPython.core.display.HTML object>"
      ]
     },
     "metadata": {},
     "output_type": "display_data"
    },
    {
     "data": {
      "text/html": [
       "\n",
       "              <p>\n",
       "                  Progress: 0% Complete\n",
       "              <p/>            \n",
       "              <progress\n",
       "                  value='0'\n",
       "                  max='3678',\n",
       "                  style='width: 25%',\n",
       "              >\n",
       "                  0\n",
       "              </progress>\n",
       "\n",
       "    "
      ],
      "text/plain": [
       "<IPython.core.display.HTML object>"
      ]
     },
     "metadata": {},
     "output_type": "display_data"
    },
    {
     "data": {
      "text/html": [
       "\n",
       "              <p>\n",
       "                  Progress: 0% Complete\n",
       "              <p/>            \n",
       "              <progress\n",
       "                  value='0'\n",
       "                  max='718',\n",
       "                  style='width: 25%',\n",
       "              >\n",
       "                  0\n",
       "              </progress>\n",
       "\n",
       "    "
      ],
      "text/plain": [
       "<IPython.core.display.HTML object>"
      ]
     },
     "metadata": {},
     "output_type": "display_data"
    },
    {
     "data": {
      "text/html": [
       "\n",
       "              <p>\n",
       "                  Progress: 0% Complete\n",
       "              <p/>            \n",
       "              <progress\n",
       "                  value='0'\n",
       "                  max='718',\n",
       "                  style='width: 25%',\n",
       "              >\n",
       "                  0\n",
       "              </progress>\n",
       "\n",
       "    "
      ],
      "text/plain": [
       "<IPython.core.display.HTML object>"
      ]
     },
     "metadata": {},
     "output_type": "display_data"
    },
    {
     "data": {
      "text/html": [
       "\n",
       "              <p>\n",
       "                  Progress: 0% Complete\n",
       "              <p/>            \n",
       "              <progress\n",
       "                  value='0'\n",
       "                  max='718',\n",
       "                  style='width: 25%',\n",
       "              >\n",
       "                  0\n",
       "              </progress>\n",
       "\n",
       "    "
      ],
      "text/plain": [
       "<IPython.core.display.HTML object>"
      ]
     },
     "metadata": {},
     "output_type": "display_data"
    },
    {
     "name": "stdout",
     "output_type": "stream",
     "text": [
      "[11:58:49] WARNING: C:/Users/Administrator/workspace/xgboost-win64_release_1.5.0/src/learner.cc:1115: Starting in XGBoost 1.3.0, the default evaluation metric used with the objective 'binary:logistic' was changed from 'error' to 'logloss'. Explicitly set eval_metric if you'd like to restore the old behavior.\n",
      "[11:58:50] WARNING: C:/Users/Administrator/workspace/xgboost-win64_release_1.5.0/src/learner.cc:1115: Starting in XGBoost 1.3.0, the default evaluation metric used with the objective 'binary:logistic' was changed from 'error' to 'logloss'. Explicitly set eval_metric if you'd like to restore the old behavior.\n",
      "[11:58:51] WARNING: C:/Users/Administrator/workspace/xgboost-win64_release_1.5.0/src/learner.cc:1115: Starting in XGBoost 1.3.0, the default evaluation metric used with the objective 'binary:logistic' was changed from 'error' to 'logloss'. Explicitly set eval_metric if you'd like to restore the old behavior.\n",
      "[11:58:52] WARNING: C:/Users/Administrator/workspace/xgboost-win64_release_1.5.0/src/learner.cc:1115: Starting in XGBoost 1.3.0, the default evaluation metric used with the objective 'binary:logistic' was changed from 'error' to 'logloss'. Explicitly set eval_metric if you'd like to restore the old behavior.\n",
      "[11:58:53] WARNING: C:/Users/Administrator/workspace/xgboost-win64_release_1.5.0/src/learner.cc:1115: Starting in XGBoost 1.3.0, the default evaluation metric used with the objective 'binary:logistic' was changed from 'error' to 'logloss'. Explicitly set eval_metric if you'd like to restore the old behavior.\n",
      "[11:58:54] WARNING: C:/Users/Administrator/workspace/xgboost-win64_release_1.5.0/src/learner.cc:1115: Starting in XGBoost 1.3.0, the default evaluation metric used with the objective 'binary:logistic' was changed from 'error' to 'logloss'. Explicitly set eval_metric if you'd like to restore the old behavior.\n",
      "[11:59:03] WARNING: C:/Users/Administrator/workspace/xgboost-win64_release_1.5.0/src/learner.cc:1115: Starting in XGBoost 1.3.0, the default evaluation metric used with the objective 'binary:logistic' was changed from 'error' to 'logloss'. Explicitly set eval_metric if you'd like to restore the old behavior.\n",
      "[11:59:11] WARNING: C:/Users/Administrator/workspace/xgboost-win64_release_1.5.0/src/learner.cc:1115: Starting in XGBoost 1.3.0, the default evaluation metric used with the objective 'binary:logistic' was changed from 'error' to 'logloss'. Explicitly set eval_metric if you'd like to restore the old behavior.\n",
      "[11:59:20] WARNING: C:/Users/Administrator/workspace/xgboost-win64_release_1.5.0/src/learner.cc:1115: Starting in XGBoost 1.3.0, the default evaluation metric used with the objective 'binary:logistic' was changed from 'error' to 'logloss'. Explicitly set eval_metric if you'd like to restore the old behavior.\n",
      "[11:59:28] WARNING: C:/Users/Administrator/workspace/xgboost-win64_release_1.5.0/src/learner.cc:1115: Starting in XGBoost 1.3.0, the default evaluation metric used with the objective 'binary:logistic' was changed from 'error' to 'logloss'. Explicitly set eval_metric if you'd like to restore the old behavior.\n",
      "[11:59:37] WARNING: C:/Users/Administrator/workspace/xgboost-win64_release_1.5.0/src/learner.cc:1115: Starting in XGBoost 1.3.0, the default evaluation metric used with the objective 'binary:logistic' was changed from 'error' to 'logloss'. Explicitly set eval_metric if you'd like to restore the old behavior.\n",
      "[11:59:49] WARNING: C:/Users/Administrator/workspace/xgboost-win64_release_1.5.0/src/learner.cc:1115: Starting in XGBoost 1.3.0, the default evaluation metric used with the objective 'binary:logistic' was changed from 'error' to 'logloss'. Explicitly set eval_metric if you'd like to restore the old behavior.\n",
      "[12:00:01] WARNING: C:/Users/Administrator/workspace/xgboost-win64_release_1.5.0/src/learner.cc:1115: Starting in XGBoost 1.3.0, the default evaluation metric used with the objective 'binary:logistic' was changed from 'error' to 'logloss'. Explicitly set eval_metric if you'd like to restore the old behavior.\n",
      "[12:00:13] WARNING: C:/Users/Administrator/workspace/xgboost-win64_release_1.5.0/src/learner.cc:1115: Starting in XGBoost 1.3.0, the default evaluation metric used with the objective 'binary:logistic' was changed from 'error' to 'logloss'. Explicitly set eval_metric if you'd like to restore the old behavior.\n",
      "[12:00:24] WARNING: C:/Users/Administrator/workspace/xgboost-win64_release_1.5.0/src/learner.cc:1115: Starting in XGBoost 1.3.0, the default evaluation metric used with the objective 'binary:logistic' was changed from 'error' to 'logloss'. Explicitly set eval_metric if you'd like to restore the old behavior.\n",
      "[12:00:39] WARNING: C:/Users/Administrator/workspace/xgboost-win64_release_1.5.0/src/learner.cc:1115: Starting in XGBoost 1.3.0, the default evaluation metric used with the objective 'binary:logistic' was changed from 'error' to 'logloss'. Explicitly set eval_metric if you'd like to restore the old behavior.\n",
      "[12:00:41] WARNING: C:/Users/Administrator/workspace/xgboost-win64_release_1.5.0/src/learner.cc:1115: Starting in XGBoost 1.3.0, the default evaluation metric used with the objective 'binary:logistic' was changed from 'error' to 'logloss'. Explicitly set eval_metric if you'd like to restore the old behavior.\n",
      "[12:00:43] WARNING: C:/Users/Administrator/workspace/xgboost-win64_release_1.5.0/src/learner.cc:1115: Starting in XGBoost 1.3.0, the default evaluation metric used with the objective 'binary:logistic' was changed from 'error' to 'logloss'. Explicitly set eval_metric if you'd like to restore the old behavior.\n",
      "[12:00:45] WARNING: C:/Users/Administrator/workspace/xgboost-win64_release_1.5.0/src/learner.cc:1115: Starting in XGBoost 1.3.0, the default evaluation metric used with the objective 'binary:logistic' was changed from 'error' to 'logloss'. Explicitly set eval_metric if you'd like to restore the old behavior.\n",
      "[12:00:47] WARNING: C:/Users/Administrator/workspace/xgboost-win64_release_1.5.0/src/learner.cc:1115: Starting in XGBoost 1.3.0, the default evaluation metric used with the objective 'binary:logistic' was changed from 'error' to 'logloss'. Explicitly set eval_metric if you'd like to restore the old behavior.\n",
      "[12:00:48] WARNING: C:/Users/Administrator/workspace/xgboost-win64_release_1.5.0/src/learner.cc:1115: Starting in XGBoost 1.3.0, the default evaluation metric used with the objective 'binary:logistic' was changed from 'error' to 'logloss'. Explicitly set eval_metric if you'd like to restore the old behavior.\n",
      "[12:00:51] WARNING: C:/Users/Administrator/workspace/xgboost-win64_release_1.5.0/src/learner.cc:1115: Starting in XGBoost 1.3.0, the default evaluation metric used with the objective 'binary:logistic' was changed from 'error' to 'logloss'. Explicitly set eval_metric if you'd like to restore the old behavior.\n",
      "[12:00:53] WARNING: C:/Users/Administrator/workspace/xgboost-win64_release_1.5.0/src/learner.cc:1115: Starting in XGBoost 1.3.0, the default evaluation metric used with the objective 'binary:logistic' was changed from 'error' to 'logloss'. Explicitly set eval_metric if you'd like to restore the old behavior.\n",
      "[12:00:56] WARNING: C:/Users/Administrator/workspace/xgboost-win64_release_1.5.0/src/learner.cc:1115: Starting in XGBoost 1.3.0, the default evaluation metric used with the objective 'binary:logistic' was changed from 'error' to 'logloss'. Explicitly set eval_metric if you'd like to restore the old behavior.\n",
      "[12:00:58] WARNING: C:/Users/Administrator/workspace/xgboost-win64_release_1.5.0/src/learner.cc:1115: Starting in XGBoost 1.3.0, the default evaluation metric used with the objective 'binary:logistic' was changed from 'error' to 'logloss'. Explicitly set eval_metric if you'd like to restore the old behavior.\n",
      "[12:01:00] WARNING: C:/Users/Administrator/workspace/xgboost-win64_release_1.5.0/src/learner.cc:1115: Starting in XGBoost 1.3.0, the default evaluation metric used with the objective 'binary:logistic' was changed from 'error' to 'logloss'. Explicitly set eval_metric if you'd like to restore the old behavior.\n",
      "[12:01:07] WARNING: C:/Users/Administrator/workspace/xgboost-win64_release_1.5.0/src/learner.cc:1115: Starting in XGBoost 1.3.0, the default evaluation metric used with the objective 'binary:logistic' was changed from 'error' to 'logloss'. Explicitly set eval_metric if you'd like to restore the old behavior.\n"
     ]
    },
    {
     "name": "stdout",
     "output_type": "stream",
     "text": [
      "[12:01:14] WARNING: C:/Users/Administrator/workspace/xgboost-win64_release_1.5.0/src/learner.cc:1115: Starting in XGBoost 1.3.0, the default evaluation metric used with the objective 'binary:logistic' was changed from 'error' to 'logloss'. Explicitly set eval_metric if you'd like to restore the old behavior.\n",
      "[12:01:22] WARNING: C:/Users/Administrator/workspace/xgboost-win64_release_1.5.0/src/learner.cc:1115: Starting in XGBoost 1.3.0, the default evaluation metric used with the objective 'binary:logistic' was changed from 'error' to 'logloss'. Explicitly set eval_metric if you'd like to restore the old behavior.\n",
      "[12:01:29] WARNING: C:/Users/Administrator/workspace/xgboost-win64_release_1.5.0/src/learner.cc:1115: Starting in XGBoost 1.3.0, the default evaluation metric used with the objective 'binary:logistic' was changed from 'error' to 'logloss'. Explicitly set eval_metric if you'd like to restore the old behavior.\n",
      "[12:01:38] WARNING: C:/Users/Administrator/workspace/xgboost-win64_release_1.5.0/src/learner.cc:1115: Starting in XGBoost 1.3.0, the default evaluation metric used with the objective 'binary:logistic' was changed from 'error' to 'logloss'. Explicitly set eval_metric if you'd like to restore the old behavior.\n",
      "[12:01:46] WARNING: C:/Users/Administrator/workspace/xgboost-win64_release_1.5.0/src/learner.cc:1115: Starting in XGBoost 1.3.0, the default evaluation metric used with the objective 'binary:logistic' was changed from 'error' to 'logloss'. Explicitly set eval_metric if you'd like to restore the old behavior.\n",
      "[12:01:55] WARNING: C:/Users/Administrator/workspace/xgboost-win64_release_1.5.0/src/learner.cc:1115: Starting in XGBoost 1.3.0, the default evaluation metric used with the objective 'binary:logistic' was changed from 'error' to 'logloss'. Explicitly set eval_metric if you'd like to restore the old behavior.\n",
      "[12:02:04] WARNING: C:/Users/Administrator/workspace/xgboost-win64_release_1.5.0/src/learner.cc:1115: Starting in XGBoost 1.3.0, the default evaluation metric used with the objective 'binary:logistic' was changed from 'error' to 'logloss'. Explicitly set eval_metric if you'd like to restore the old behavior.\n",
      "[12:02:13] WARNING: C:/Users/Administrator/workspace/xgboost-win64_release_1.5.0/src/learner.cc:1115: Starting in XGBoost 1.3.0, the default evaluation metric used with the objective 'binary:logistic' was changed from 'error' to 'logloss'. Explicitly set eval_metric if you'd like to restore the old behavior.\n",
      "[12:02:23] WARNING: C:/Users/Administrator/workspace/xgboost-win64_release_1.5.0/src/learner.cc:1115: Starting in XGBoost 1.3.0, the default evaluation metric used with the objective 'binary:logistic' was changed from 'error' to 'logloss'. Explicitly set eval_metric if you'd like to restore the old behavior.\n",
      "[12:02:30] WARNING: C:/Users/Administrator/workspace/xgboost-win64_release_1.5.0/src/learner.cc:1115: Starting in XGBoost 1.3.0, the default evaluation metric used with the objective 'binary:logistic' was changed from 'error' to 'logloss'. Explicitly set eval_metric if you'd like to restore the old behavior.\n",
      "[12:02:37] WARNING: C:/Users/Administrator/workspace/xgboost-win64_release_1.5.0/src/learner.cc:1115: Starting in XGBoost 1.3.0, the default evaluation metric used with the objective 'binary:logistic' was changed from 'error' to 'logloss'. Explicitly set eval_metric if you'd like to restore the old behavior.\n",
      "[12:02:46] WARNING: C:/Users/Administrator/workspace/xgboost-win64_release_1.5.0/src/learner.cc:1115: Starting in XGBoost 1.3.0, the default evaluation metric used with the objective 'binary:logistic' was changed from 'error' to 'logloss'. Explicitly set eval_metric if you'd like to restore the old behavior.\n",
      "[12:02:53] WARNING: C:/Users/Administrator/workspace/xgboost-win64_release_1.5.0/src/learner.cc:1115: Starting in XGBoost 1.3.0, the default evaluation metric used with the objective 'binary:logistic' was changed from 'error' to 'logloss'. Explicitly set eval_metric if you'd like to restore the old behavior.\n",
      "[12:03:00] WARNING: C:/Users/Administrator/workspace/xgboost-win64_release_1.5.0/src/learner.cc:1115: Starting in XGBoost 1.3.0, the default evaluation metric used with the objective 'binary:logistic' was changed from 'error' to 'logloss'. Explicitly set eval_metric if you'd like to restore the old behavior.\n",
      "[12:03:03] WARNING: C:/Users/Administrator/workspace/xgboost-win64_release_1.5.0/src/learner.cc:1115: Starting in XGBoost 1.3.0, the default evaluation metric used with the objective 'binary:logistic' was changed from 'error' to 'logloss'. Explicitly set eval_metric if you'd like to restore the old behavior.\n",
      "[12:03:08] WARNING: C:/Users/Administrator/workspace/xgboost-win64_release_1.5.0/src/learner.cc:1115: Starting in XGBoost 1.3.0, the default evaluation metric used with the objective 'binary:logistic' was changed from 'error' to 'logloss'. Explicitly set eval_metric if you'd like to restore the old behavior.\n",
      "[12:03:13] WARNING: C:/Users/Administrator/workspace/xgboost-win64_release_1.5.0/src/learner.cc:1115: Starting in XGBoost 1.3.0, the default evaluation metric used with the objective 'binary:logistic' was changed from 'error' to 'logloss'. Explicitly set eval_metric if you'd like to restore the old behavior.\n",
      "[12:03:18] WARNING: C:/Users/Administrator/workspace/xgboost-win64_release_1.5.0/src/learner.cc:1115: Starting in XGBoost 1.3.0, the default evaluation metric used with the objective 'binary:logistic' was changed from 'error' to 'logloss'. Explicitly set eval_metric if you'd like to restore the old behavior.\n",
      "[12:03:22] WARNING: C:/Users/Administrator/workspace/xgboost-win64_release_1.5.0/src/learner.cc:1115: Starting in XGBoost 1.3.0, the default evaluation metric used with the objective 'binary:logistic' was changed from 'error' to 'logloss'. Explicitly set eval_metric if you'd like to restore the old behavior.\n",
      "[12:03:27] WARNING: C:/Users/Administrator/workspace/xgboost-win64_release_1.5.0/src/learner.cc:1115: Starting in XGBoost 1.3.0, the default evaluation metric used with the objective 'binary:logistic' was changed from 'error' to 'logloss'. Explicitly set eval_metric if you'd like to restore the old behavior.\n",
      "[12:03:32] WARNING: C:/Users/Administrator/workspace/xgboost-win64_release_1.5.0/src/learner.cc:1115: Starting in XGBoost 1.3.0, the default evaluation metric used with the objective 'binary:logistic' was changed from 'error' to 'logloss'. Explicitly set eval_metric if you'd like to restore the old behavior.\n",
      "[12:03:37] WARNING: C:/Users/Administrator/workspace/xgboost-win64_release_1.5.0/src/learner.cc:1115: Starting in XGBoost 1.3.0, the default evaluation metric used with the objective 'binary:logistic' was changed from 'error' to 'logloss'. Explicitly set eval_metric if you'd like to restore the old behavior.\n",
      "[12:03:42] WARNING: C:/Users/Administrator/workspace/xgboost-win64_release_1.5.0/src/learner.cc:1115: Starting in XGBoost 1.3.0, the default evaluation metric used with the objective 'binary:logistic' was changed from 'error' to 'logloss'. Explicitly set eval_metric if you'd like to restore the old behavior.\n",
      "[12:03:47] WARNING: C:/Users/Administrator/workspace/xgboost-win64_release_1.5.0/src/learner.cc:1115: Starting in XGBoost 1.3.0, the default evaluation metric used with the objective 'binary:logistic' was changed from 'error' to 'logloss'. Explicitly set eval_metric if you'd like to restore the old behavior.\n",
      "[12:03:52] WARNING: C:/Users/Administrator/workspace/xgboost-win64_release_1.5.0/src/learner.cc:1115: Starting in XGBoost 1.3.0, the default evaluation metric used with the objective 'binary:logistic' was changed from 'error' to 'logloss'. Explicitly set eval_metric if you'd like to restore the old behavior.\n",
      "[12:03:54] WARNING: C:/Users/Administrator/workspace/xgboost-win64_release_1.5.0/src/learner.cc:1115: Starting in XGBoost 1.3.0, the default evaluation metric used with the objective 'binary:logistic' was changed from 'error' to 'logloss'. Explicitly set eval_metric if you'd like to restore the old behavior.\n",
      "[12:03:58] WARNING: C:/Users/Administrator/workspace/xgboost-win64_release_1.5.0/src/learner.cc:1115: Starting in XGBoost 1.3.0, the default evaluation metric used with the objective 'binary:logistic' was changed from 'error' to 'logloss'. Explicitly set eval_metric if you'd like to restore the old behavior.\n"
     ]
    },
    {
     "name": "stdout",
     "output_type": "stream",
     "text": [
      "[12:04:00] WARNING: C:/Users/Administrator/workspace/xgboost-win64_release_1.5.0/src/learner.cc:1115: Starting in XGBoost 1.3.0, the default evaluation metric used with the objective 'binary:logistic' was changed from 'error' to 'logloss'. Explicitly set eval_metric if you'd like to restore the old behavior.\n",
      "[12:04:01] WARNING: C:/Users/Administrator/workspace/xgboost-win64_release_1.5.0/src/learner.cc:1115: Starting in XGBoost 1.3.0, the default evaluation metric used with the objective 'binary:logistic' was changed from 'error' to 'logloss'. Explicitly set eval_metric if you'd like to restore the old behavior.\n",
      "[12:04:02] WARNING: C:/Users/Administrator/workspace/xgboost-win64_release_1.5.0/src/learner.cc:1115: Starting in XGBoost 1.3.0, the default evaluation metric used with the objective 'binary:logistic' was changed from 'error' to 'logloss'. Explicitly set eval_metric if you'd like to restore the old behavior.\n",
      "[12:04:03] WARNING: C:/Users/Administrator/workspace/xgboost-win64_release_1.5.0/src/learner.cc:1115: Starting in XGBoost 1.3.0, the default evaluation metric used with the objective 'binary:logistic' was changed from 'error' to 'logloss'. Explicitly set eval_metric if you'd like to restore the old behavior.\n",
      "Feature Size: 226\n",
      "ACCURACY OF THE KNN MODEL:  0.8091922005571031\n",
      "ACCURACY OF THE RF MODEL:  0.8579387186629527\n",
      "ACCURACY OF THE XGBoost MODEL:  0.9066852367688022\n",
      "ACCURACY OF THE StackingClassifier MODEL:  0.9164345403899722\n",
      "\n",
      "                  precision    recall  f1-score   support\n",
      "\n",
      "other activities       0.86      0.88      0.87       523\n",
      "         walking       0.66      0.62      0.64       195\n",
      "\n",
      "        accuracy                           0.81       718\n",
      "       macro avg       0.76      0.75      0.75       718\n",
      "    weighted avg       0.81      0.81      0.81       718\n",
      "\n",
      "\n",
      "                  precision    recall  f1-score   support\n",
      "\n",
      "other activities       0.87      0.95      0.91       523\n",
      "         walking       0.82      0.62      0.70       195\n",
      "\n",
      "        accuracy                           0.86       718\n",
      "       macro avg       0.84      0.78      0.80       718\n",
      "    weighted avg       0.85      0.86      0.85       718\n",
      "\n",
      "\n",
      "                  precision    recall  f1-score   support\n",
      "\n",
      "other activities       0.89      0.99      0.94       523\n",
      "         walking       0.98      0.67      0.80       195\n",
      "\n",
      "        accuracy                           0.91       718\n",
      "       macro avg       0.93      0.83      0.87       718\n",
      "    weighted avg       0.91      0.91      0.90       718\n",
      "\n",
      "\n",
      "                  precision    recall  f1-score   support\n",
      "\n",
      "other activities       0.90      0.99      0.95       523\n",
      "         walking       0.98      0.71      0.82       195\n",
      "\n",
      "        accuracy                           0.92       718\n",
      "       macro avg       0.94      0.85      0.88       718\n",
      "    weighted avg       0.92      0.92      0.91       718\n",
      "\n"
     ]
    }
   ],
   "source": [
    "df_all_back = pd.read_csv('../data/df_all_back.csv', delimiter=None, header='infer')\n",
    "\n",
    "df_all_back['label'] = df_all_back['label'].replace([1.0, 2.0, 3.0, 4.0], 1.0)\n",
    "df_all_back['label'] = df_all_back['label'].replace([5.0], 2.0)\n",
    "\n",
    "IDs = ['PID008', 'PID009', 'PID010','PID011','PID012','PID013', 'PID014',\n",
    "       'PID015','PID016','PID017','PID018','PID019', 'PID020', 'PID021', \n",
    "       'PID022', 'PID023', 'PID024', 'PID025', 'PID026', 'PID027', 'PID028']\n",
    "\n",
    "test_subjects = ['PID010', 'PID023', 'PID016', 'PID020', 'PID028']\n",
    "train_subjects = [x for x in IDs if x not in test_subjects]\n",
    "\n",
    "df_train = df_all_back[df_all_back['ID'].isin(train_subjects)].reset_index(drop=True)\n",
    "df_test = df_all_back[df_all_back['ID'].isin(test_subjects)].reset_index(drop=True)\n",
    "\n",
    "print('Train shape: {}'.format(df_train.shape))\n",
    "print('Test shape: {}'.format(df_test.shape))\n",
    "print()\n",
    "print('Train subjects: {}'.format(df_train.loc[:, 'ID'].unique()))\n",
    "print()\n",
    "print('Test subjects: {}'.format(df_test.loc[:, 'ID'].unique()))\n",
    "\n",
    "\n",
    "X_train = df_train[['x', 'y', 'z']].values\n",
    "X_test = df_test[['x', 'y', 'z']].values\n",
    "y_train = df_train['label'].values - 1\n",
    "y_test = df_test['label'].values - 1\n",
    "\n",
    "\n",
    "def sliding_window(a, w, o, copy):\n",
    "    sh = (a.size - w + 1, w)\n",
    "    \n",
    "    st = a.strides * 2\n",
    "    view = np.lib.stride_tricks.as_strided(a, strides = st, shape = sh)[0::o]\n",
    "    if copy:\n",
    "        return view.copy()\n",
    "    else:\n",
    "        return view\n",
    "\n",
    "    \n",
    "ada = ADASYN(random_state=42)\n",
    "cfg = tsfel.get_features_by_domain()\n",
    "\n",
    "w = 66 #50\n",
    "o = 33 #25\n",
    "\n",
    "X_train_res, y_train_res = ada.fit_resample(X_train, y_train)\n",
    "\n",
    "x_tr_win = sliding_window(X_train_res.T[0,:], w, o, copy = True)\n",
    "y_tr_win = sliding_window(X_train_res.T[1,:], w, o, copy = True)\n",
    "z_tr_win = sliding_window(X_train_res.T[2,:], w, o, copy = True)\n",
    "\n",
    "x_ts_win = sliding_window(X_test.T[0,:], w, o, copy = True)\n",
    "y_ts_win = sliding_window(X_test.T[1,:], w, o, copy = True)\n",
    "z_ts_win = sliding_window(X_test.T[2,:], w, o, copy = True)\n",
    "\n",
    "label_tr_win = sp.stats.mode(sliding_window(y_train_res, w, o, copy = True), axis=1)[0].ravel()\n",
    "label_ts_win = sp.stats.mode(sliding_window(y_test, w, o, copy = True), axis=1)[0].ravel()\n",
    "\n",
    "feat_x_tr = tsfel.time_series_features_extractor(cfg, x_tr_win, fs=11, verbose=0)\n",
    "feat_y_tr = tsfel.time_series_features_extractor(cfg, y_tr_win, fs=11, verbose=0)\n",
    "feat_z_tr = tsfel.time_series_features_extractor(cfg, z_tr_win, fs=11, verbose=0)\n",
    "\n",
    "feat_xyz_tr = pd.concat([feat_x_tr, feat_y_tr, feat_z_tr], axis=1)\n",
    "\n",
    "feat_x_ts = tsfel.time_series_features_extractor(cfg, x_ts_win, fs=11, verbose=0)\n",
    "feat_y_ts = tsfel.time_series_features_extractor(cfg, y_ts_win, fs=11, verbose=0)\n",
    "feat_z_ts = tsfel.time_series_features_extractor(cfg, z_ts_win, fs=11, verbose=0)\n",
    "\n",
    "feat_xyz_ts = pd.concat([feat_x_ts, feat_y_ts, feat_z_ts], axis=1)\n",
    "\n",
    "# parameter\n",
    "k = 5     # k-value in KNN\n",
    "N = 10    # number of particles\n",
    "T = 100   # maximum number of iterations\n",
    "fold = {'xt':feat_xyz_tr.values, 'yt':label_tr_win, 'xv':feat_xyz_ts.values, 'yv':label_ts_win}\n",
    "opts = {'k':k, 'fold':fold, 'N':N, 'T':T}\n",
    "\n",
    "# perform feature selection\n",
    "fmdl = jfs(feat_xyz_tr.values, label_tr_win, opts)\n",
    "sf = fmdl['sf']\n",
    "\n",
    "# model with selected features\n",
    "num_train = np.size(feat_xyz_tr.values, 0)\n",
    "num_valid = np.size(feat_xyz_ts.values, 0)\n",
    "xtrain = feat_xyz_tr.values[:, sf]\n",
    "ytrain = label_tr_win.reshape(num_train)  # Solve bug\n",
    "xtest = feat_xyz_ts.values[:, sf]\n",
    "ytest = label_ts_win.reshape(num_valid)  # Solve bug\n",
    "\n",
    "## kNN\n",
    "distributions = dict(n_neighbors=[3, 5, 7, 10])\n",
    "search = RandomizedSearchCV(KNeighborsClassifier(), distributions, random_state=0)\n",
    "search.fit(xtrain, ytrain)\n",
    "model_knn = KNeighborsClassifier(n_neighbors = search.best_params_['n_neighbors'])\n",
    "\n",
    "## Random Forest\n",
    "distributions = dict(n_estimators=[50, 100, 200, 300], max_features=['auto', 'sqrt', 'log2'], max_depth=[4,5,6,7,8])\n",
    "search = RandomizedSearchCV(RandomForestClassifier(), distributions, random_state=0)\n",
    "search.fit(xtrain, ytrain)\n",
    "model_rf = RandomForestClassifier(n_estimators=search.best_params_['n_estimators'], \n",
    "                               max_features=search.best_params_['max_features'],\n",
    "                               max_depth=search.best_params_['max_depth'])\n",
    "\n",
    "## XGBoost\n",
    "distributions = dict(n_estimators=[50, 100, 200, 300], gamma=[0.5, 1, 1.5, 2, 5], max_depth=[3, 4, 5, 6, 7, 8])\n",
    "search = RandomizedSearchCV(XGBClassifier(), distributions, random_state=0)\n",
    "search.fit(xtrain, ytrain)\n",
    "model_xgb = XGBClassifier(n_estimators=search.best_params_['n_estimators'], \n",
    "                      gamma=search.best_params_['gamma'],\n",
    "                      max_depth=search.best_params_['max_depth'])\n",
    "\n",
    "## Stacking Classifier\n",
    "estimators = [\n",
    "        ('rf', RandomForestClassifier(n_estimators=search.best_params_['n_estimators'], \n",
    "                                      max_depth=search.best_params_['max_depth'])),\n",
    "        ('knn', KNeighborsClassifier(n_neighbors = 7)),\n",
    "        ('xgb', XGBClassifier(n_estimators=search.best_params_['n_estimators'], \n",
    "                              gamma=search.best_params_['gamma'],\n",
    "                              max_depth=search.best_params_['max_depth']))\n",
    "]\n",
    "\n",
    "model_stack = StackingClassifier(estimators=estimators, final_estimator=LogisticRegression())\n",
    "\n",
    "model_knn.fit(xtrain, ytrain)\n",
    "model_rf.fit(xtrain, ytrain)\n",
    "model_xgb.fit(xtrain, ytrain)\n",
    "model_stack.fit(xtrain, ytrain)\n",
    "\n",
    "# number of selected features\n",
    "num_feat = fmdl['nf']\n",
    "print(\"Feature Size:\", num_feat)\n",
    "\n",
    "y_pred_ts_knn = model_knn.predict(xtest)\n",
    "y_proba_ts_knn = model_knn.predict_proba(xtest)\n",
    "\n",
    "y_pred_ts_rf = model_rf.predict(xtest)\n",
    "y_proba_ts_rf = model_rf.predict_proba(xtest)\n",
    "\n",
    "y_pred_ts_xgb = model_xgb.predict(xtest)\n",
    "y_proba_ts_xgb = model_xgb.predict_proba(xtest)\n",
    "\n",
    "y_pred_ts_stack = model_stack.predict(xtest)\n",
    "y_proba_ts_stack = model_stack.predict_proba(xtest)\n",
    "\n",
    "acc_knn = accuracy_score(ytest, y_pred_ts_knn)\n",
    "print(\"ACCURACY OF THE KNN MODEL: \", acc_knn)\n",
    "acc_rf = accuracy_score(ytest, y_pred_ts_rf)\n",
    "print(\"ACCURACY OF THE RF MODEL: \", acc_rf)\n",
    "acc_xgb = accuracy_score(ytest, y_pred_ts_xgb)\n",
    "print(\"ACCURACY OF THE XGBoost MODEL: \", acc_xgb)\n",
    "acc_stack = accuracy_score(ytest, y_pred_ts_stack)\n",
    "print(\"ACCURACY OF THE StackingClassifier MODEL: \", acc_stack)\n",
    "print()\n",
    "print(classification_report(ytest, y_pred_ts_knn, target_names=['other activities', 'walking']))\n",
    "print()\n",
    "print(classification_report(ytest, y_pred_ts_rf, target_names=['other activities', 'walking']))\n",
    "print()\n",
    "print(classification_report(ytest, y_pred_ts_xgb, target_names=['other activities', 'walking']))\n",
    "print()\n",
    "print(classification_report(ytest, y_pred_ts_stack, target_names=['other activities', 'walking']))\n",
    "\n",
    "\n",
    "with open('../saved_results/pred_knn_66_33.npy', 'wb') as f:\n",
    "    np.save(f, np.array(y_pred_ts_knn))\n",
    "    \n",
    "with open('../saved_results/pred_rf_66_33.npy', 'wb') as f:\n",
    "    np.save(f, np.array(y_pred_ts_rf))\n",
    "    \n",
    "with open('../saved_results/pred_xgb_66_33.npy', 'wb') as f:\n",
    "    np.save(f, np.array(y_pred_ts_xgb))\n",
    "    \n",
    "with open('../saved_results/pred_stack_66_33.npy', 'wb') as f:\n",
    "    np.save(f, np.array(y_pred_ts_stack))\n",
    "    \n",
    "with open('../saved_results/proba_knn_66_33.npy', 'wb') as f:\n",
    "    np.save(f, np.array(y_proba_ts_knn))\n",
    "    \n",
    "with open('../saved_results/proba_rf_66_33.npy', 'wb') as f:\n",
    "    np.save(f, np.array(y_proba_ts_rf))\n",
    "    \n",
    "with open('../saved_results/proba_xgb_66_33.npy', 'wb') as f:\n",
    "    np.save(f, np.array(y_proba_ts_xgb))\n",
    "    \n",
    "with open('../saved_results/proba_stack_66_33.npy', 'wb') as f:\n",
    "    np.save(f, np.array(y_proba_ts_stack))\n",
    "    \n",
    "with open('../saved_results/acc_knn_66_33.npy', 'wb') as f:\n",
    "    np.save(f, np.array(acc_knn))\n",
    "    \n",
    "with open('../saved_results/acc_rf_66_33.npy', 'wb') as f:\n",
    "    np.save(f, np.array(acc_rf))\n",
    "    \n",
    "with open('../saved_results/acc_xgb_66_33.npy', 'wb') as f:\n",
    "    np.save(f, np.array(acc_xgb))\n",
    "    \n",
    "with open('../saved_results/acc_stack_66_33.npy', 'wb') as f:\n",
    "    np.save(f, np.array(acc_stack))\n",
    "    \n",
    "with open('../saved_results/ytest_66_33.npy', 'wb') as f:\n",
    "    np.save(f, np.array(ytest))\n",
    "    \n",
    "with open('../saved_results/fmdl_all_66_33.npy', 'wb') as f:\n",
    "    np.save(f, np.array(fmdl))  \n",
    "\n",
    "    \n",
    "with open('model_knn.pkl', 'wb') as f:\n",
    "    pickle.dump(model_knn, f)\n",
    "    \n",
    "with open('model_rf.pkl', 'wb') as f:\n",
    "    pickle.dump(model_rf, f)\n",
    "    \n",
    "with open('model_xgb.pkl', 'wb') as f:\n",
    "    pickle.dump(model_xgb, f)\n",
    "    \n",
    "with open('model_stack.pkl', 'wb') as f:\n",
    "    pickle.dump(model_stack, f)\n",
    "    \n"
   ]
  },
  {
   "cell_type": "code",
   "execution_count": 68,
   "metadata": {},
   "outputs": [
    {
     "data": {
      "image/png": "[encoded data removed]",
      "text/plain": [
       "<Figure size 648x504 with 8 Axes>"
      ]
     },
     "metadata": {},
     "output_type": "display_data"
    }
   ],
   "source": [
    "y_pred_ts_knn = np.load('../saved_results/pred_knn_66_33.npy', allow_pickle=True)\n",
    "y_pred_ts_rf = np.load('../saved_results/pred_rf_66_33.npy', allow_pickle=True)\n",
    "y_pred_ts_xgb = np.load('../saved_results/pred_xgb_66_33.npy', allow_pickle=True)\n",
    "y_pred_ts_stack = np.load('../saved_results/pred_stack_66_33.npy', allow_pickle=True)\n",
    "ytest = np.load('../saved_results/ytest_66_33.npy', allow_pickle=True)\n",
    "\n",
    "\n",
    "\n",
    "cf_matrix_knn = confusion_matrix(ytest, y_pred_ts_knn)\n",
    "cf_matrix_rf = confusion_matrix(ytest, y_pred_ts_rf)\n",
    "cf_matrix_xgb = confusion_matrix(ytest, y_pred_ts_xgb)\n",
    "cf_matrix_stack = confusion_matrix(ytest, y_pred_ts_stack)\n",
    "\n",
    "fig, ax = plt.subplots(2, 2, figsize=(9,7))\n",
    "\n",
    "sns.heatmap(cf_matrix_knn/cf_matrix_knn.astype(np.float).sum(axis=0), annot=True, fmt='.2%', cmap='Blues', \n",
    "            xticklabels=['other activities', 'walking'], yticklabels=['other activities', 'walking'], ax=ax[0, 0]) #np.sum(cf_matrix)\n",
    "sns.heatmap(cf_matrix_rf/cf_matrix_rf.astype(np.float).sum(axis=0), annot=True, fmt='.2%', cmap='Blues', \n",
    "            xticklabels=['other activities', 'walking'], yticklabels=['other activities', 'walking'], ax=ax[0, 1]) \n",
    "sns.heatmap(cf_matrix_xgb/cf_matrix_xgb.astype(np.float).sum(axis=0), annot=True, fmt='.2%', cmap='Blues', \n",
    "            xticklabels=['other activities', 'walking'], yticklabels=['other activities', 'walking'], ax=ax[1, 0]) \n",
    "sns.heatmap(cf_matrix_stack/cf_matrix_stack.astype(np.float).sum(axis=0), annot=True, fmt='.2%', cmap='Blues', \n",
    "            xticklabels=['other activities', 'walking'], yticklabels=['other activities', 'walking'], ax=ax[1, 1]) \n",
    "ax[0, 0].set_title('Confusion matrix for kNN classifier')\n",
    "ax[0, 1].set_title('Confusion matrix for RF classifier')\n",
    "ax[1, 0].set_title('Confusion matrix for XGBoost classifier')\n",
    "ax[1, 1].set_title('Confusion matrix for Stacking classifier')\n",
    "fig.tight_layout()\n",
    "sns.set(font_scale=1.2)"
   ]
  },
  {
   "cell_type": "code",
   "execution_count": 298,
   "metadata": {},
   "outputs": [
    {
     "data": {
      "image/png": "[encoded data removed]",
      "text/plain": [
       "<Figure size 700x700 with 1 Axes>"
      ]
     },
     "metadata": {},
     "output_type": "display_data"
    }
   ],
   "source": [
    "with open('model_knn.pkl', 'rb') as f:\n",
    "    model_knn = pickle.load(f)\n",
    "with open('model_rf.pkl', 'rb') as f:\n",
    "    model_rf = pickle.load(f)\n",
    "with open('model_xgb.pkl', 'rb') as f:\n",
    "    model_xgb = pickle.load(f)\n",
    "with open('model_stack.pkl', 'rb') as f:\n",
    "    model_stack = pickle.load(f)\n",
    "\n",
    "\n",
    "fig, ax = plt.subplots(figsize=(7, 7))\n",
    "knn_disp = plot_roc_curve(model_knn, xtest, ytest, ax=ax)\n",
    "rf_disp = plot_roc_curve(model_rf, xtest, ytest, ax=knn_disp.ax_)\n",
    "xgb_disp = plot_roc_curve(model_xgb, xtest, ytest, ax=knn_disp.ax_)\n",
    "stack_disp = plot_roc_curve(model_stack, xtest, ytest, ax=knn_disp.ax_)\n",
    "sns.set(font_scale=1)"
   ]
  }
 ],
 "metadata": {
  "kernelspec": {
   "display_name": "Python 3 (ipykernel)",
   "language": "python",
   "name": "python3"
  },
  "language_info": {
   "codemirror_mode": {
    "name": "ipython",
    "version": 3
   },
   "file_extension": ".py",
   "mimetype": "text/x-python",
   "name": "python",
   "nbconvert_exporter": "python",
   "pygments_lexer": "ipython3",
   "version": "3.9.7"
  }
 },
 "nbformat": 4,
 "nbformat_minor": 4
}
